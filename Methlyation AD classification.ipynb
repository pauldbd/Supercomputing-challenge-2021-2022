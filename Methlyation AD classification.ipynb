{
 "cells": [
  {
   "cell_type": "code",
   "execution_count": 2,
   "id": "ac41f3f2",
   "metadata": {},
   "outputs": [
    {
     "data": {
      "text/html": [
       "<div>\n",
       "<style scoped>\n",
       "    .dataframe tbody tr th:only-of-type {\n",
       "        vertical-align: middle;\n",
       "    }\n",
       "\n",
       "    .dataframe tbody tr th {\n",
       "        vertical-align: top;\n",
       "    }\n",
       "\n",
       "    .dataframe thead th {\n",
       "        text-align: right;\n",
       "    }\n",
       "</style>\n",
       "<table border=\"1\" class=\"dataframe\">\n",
       "  <thead>\n",
       "    <tr style=\"text-align: right;\">\n",
       "      <th></th>\n",
       "      <th>Unnamed: 0</th>\n",
       "      <th>state</th>\n",
       "      <th>cg00131081</th>\n",
       "      <th>cg02754929</th>\n",
       "      <th>cg05927173</th>\n",
       "      <th>cg09277575</th>\n",
       "      <th>cg09639094</th>\n",
       "      <th>cg10683793</th>\n",
       "      <th>cg11467680</th>\n",
       "      <th>cg26142604</th>\n",
       "      <th>cg26380756</th>\n",
       "      <th>cg26665209</th>\n",
       "    </tr>\n",
       "  </thead>\n",
       "  <tbody>\n",
       "    <tr>\n",
       "      <th>0</th>\n",
       "      <td>GSM4299203</td>\n",
       "      <td>1</td>\n",
       "      <td>0.512482</td>\n",
       "      <td>0.545598</td>\n",
       "      <td>0.134877</td>\n",
       "      <td>0.728473</td>\n",
       "      <td>0.155251</td>\n",
       "      <td>0.127684</td>\n",
       "      <td>0.807769</td>\n",
       "      <td>0.841442</td>\n",
       "      <td>0.053480</td>\n",
       "      <td>0.926206</td>\n",
       "    </tr>\n",
       "    <tr>\n",
       "      <th>1</th>\n",
       "      <td>GSM4299204</td>\n",
       "      <td>1</td>\n",
       "      <td>0.519339</td>\n",
       "      <td>0.543103</td>\n",
       "      <td>0.130753</td>\n",
       "      <td>0.748660</td>\n",
       "      <td>0.142913</td>\n",
       "      <td>0.111527</td>\n",
       "      <td>0.814765</td>\n",
       "      <td>0.853772</td>\n",
       "      <td>0.063529</td>\n",
       "      <td>0.924064</td>\n",
       "    </tr>\n",
       "    <tr>\n",
       "      <th>2</th>\n",
       "      <td>GSM4299205</td>\n",
       "      <td>0</td>\n",
       "      <td>0.651893</td>\n",
       "      <td>0.461054</td>\n",
       "      <td>0.139808</td>\n",
       "      <td>0.768702</td>\n",
       "      <td>0.139966</td>\n",
       "      <td>0.126769</td>\n",
       "      <td>0.827576</td>\n",
       "      <td>0.857551</td>\n",
       "      <td>0.062197</td>\n",
       "      <td>0.930667</td>\n",
       "    </tr>\n",
       "    <tr>\n",
       "      <th>3</th>\n",
       "      <td>GSM4299208</td>\n",
       "      <td>1</td>\n",
       "      <td>0.497859</td>\n",
       "      <td>0.564870</td>\n",
       "      <td>0.111966</td>\n",
       "      <td>0.741811</td>\n",
       "      <td>0.146469</td>\n",
       "      <td>0.096577</td>\n",
       "      <td>0.851733</td>\n",
       "      <td>0.869141</td>\n",
       "      <td>0.057925</td>\n",
       "      <td>0.932986</td>\n",
       "    </tr>\n",
       "    <tr>\n",
       "      <th>4</th>\n",
       "      <td>GSM4299209</td>\n",
       "      <td>0</td>\n",
       "      <td>0.576346</td>\n",
       "      <td>0.601313</td>\n",
       "      <td>0.108888</td>\n",
       "      <td>0.679264</td>\n",
       "      <td>0.131902</td>\n",
       "      <td>0.118812</td>\n",
       "      <td>0.824253</td>\n",
       "      <td>0.851976</td>\n",
       "      <td>0.055538</td>\n",
       "      <td>0.936020</td>\n",
       "    </tr>\n",
       "  </tbody>\n",
       "</table>\n",
       "</div>"
      ],
      "text/plain": [
       "   Unnamed: 0  state  cg00131081  cg02754929  cg05927173  cg09277575  \\\n",
       "0  GSM4299203      1    0.512482    0.545598    0.134877    0.728473   \n",
       "1  GSM4299204      1    0.519339    0.543103    0.130753    0.748660   \n",
       "2  GSM4299205      0    0.651893    0.461054    0.139808    0.768702   \n",
       "3  GSM4299208      1    0.497859    0.564870    0.111966    0.741811   \n",
       "4  GSM4299209      0    0.576346    0.601313    0.108888    0.679264   \n",
       "\n",
       "   cg09639094  cg10683793  cg11467680  cg26142604  cg26380756  cg26665209  \n",
       "0    0.155251    0.127684    0.807769    0.841442    0.053480    0.926206  \n",
       "1    0.142913    0.111527    0.814765    0.853772    0.063529    0.924064  \n",
       "2    0.139966    0.126769    0.827576    0.857551    0.062197    0.930667  \n",
       "3    0.146469    0.096577    0.851733    0.869141    0.057925    0.932986  \n",
       "4    0.131902    0.118812    0.824253    0.851976    0.055538    0.936020  "
      ]
     },
     "execution_count": 2,
     "metadata": {},
     "output_type": "execute_result"
    }
   ],
   "source": [
    "#Imports - not all were used\n",
    "from scipy.stats.stats import pearsonr\n",
    "import pandas as pd\n",
    "import numpy as np\n",
    "import matplotlib.pyplot as plt\n",
    "%matplotlib inline\n",
    "import seaborn as sns\n",
    "from scipy import stats\n",
    "import warnings\n",
    "from sklearn.metrics import confusion_matrix\n",
    "import sklearn \n",
    "from sklearn.model_selection import train_test_split\n",
    "from sklearn.preprocessing import LabelEncoder\n",
    "from mpl_toolkits.mplot3d import Axes3D \n",
    "#dataset of differentially expressed circRNAs is hepatocellular carcinoma - filtered in Strong Correlation code\n",
    "methyl = pd.read_csv(\"/Users/kbhaskar/Desktop/ALL-DESKTOP-ITEMS-2022/BinaryClassificationDataFinal.csv\")\n",
    "methyl.head()\n",
    "\n",
    "\n",
    "\n"
   ]
  },
  {
   "cell_type": "code",
   "execution_count": 3,
   "id": "616fb6fb",
   "metadata": {},
   "outputs": [
    {
     "data": {
      "text/html": [
       "<div>\n",
       "<style scoped>\n",
       "    .dataframe tbody tr th:only-of-type {\n",
       "        vertical-align: middle;\n",
       "    }\n",
       "\n",
       "    .dataframe tbody tr th {\n",
       "        vertical-align: top;\n",
       "    }\n",
       "\n",
       "    .dataframe thead th {\n",
       "        text-align: right;\n",
       "    }\n",
       "</style>\n",
       "<table border=\"1\" class=\"dataframe\">\n",
       "  <thead>\n",
       "    <tr style=\"text-align: right;\">\n",
       "      <th></th>\n",
       "      <th>state</th>\n",
       "      <th>cg00131081</th>\n",
       "      <th>cg02754929</th>\n",
       "      <th>cg05927173</th>\n",
       "      <th>cg09277575</th>\n",
       "      <th>cg09639094</th>\n",
       "      <th>cg10683793</th>\n",
       "      <th>cg11467680</th>\n",
       "      <th>cg26142604</th>\n",
       "      <th>cg26380756</th>\n",
       "      <th>cg26665209</th>\n",
       "    </tr>\n",
       "  </thead>\n",
       "  <tbody>\n",
       "    <tr>\n",
       "      <th>0</th>\n",
       "      <td>1</td>\n",
       "      <td>0.512482</td>\n",
       "      <td>0.545598</td>\n",
       "      <td>0.134877</td>\n",
       "      <td>0.728473</td>\n",
       "      <td>0.155251</td>\n",
       "      <td>0.127684</td>\n",
       "      <td>0.807769</td>\n",
       "      <td>0.841442</td>\n",
       "      <td>0.053480</td>\n",
       "      <td>0.926206</td>\n",
       "    </tr>\n",
       "    <tr>\n",
       "      <th>1</th>\n",
       "      <td>1</td>\n",
       "      <td>0.519339</td>\n",
       "      <td>0.543103</td>\n",
       "      <td>0.130753</td>\n",
       "      <td>0.748660</td>\n",
       "      <td>0.142913</td>\n",
       "      <td>0.111527</td>\n",
       "      <td>0.814765</td>\n",
       "      <td>0.853772</td>\n",
       "      <td>0.063529</td>\n",
       "      <td>0.924064</td>\n",
       "    </tr>\n",
       "    <tr>\n",
       "      <th>2</th>\n",
       "      <td>0</td>\n",
       "      <td>0.651893</td>\n",
       "      <td>0.461054</td>\n",
       "      <td>0.139808</td>\n",
       "      <td>0.768702</td>\n",
       "      <td>0.139966</td>\n",
       "      <td>0.126769</td>\n",
       "      <td>0.827576</td>\n",
       "      <td>0.857551</td>\n",
       "      <td>0.062197</td>\n",
       "      <td>0.930667</td>\n",
       "    </tr>\n",
       "    <tr>\n",
       "      <th>3</th>\n",
       "      <td>1</td>\n",
       "      <td>0.497859</td>\n",
       "      <td>0.564870</td>\n",
       "      <td>0.111966</td>\n",
       "      <td>0.741811</td>\n",
       "      <td>0.146469</td>\n",
       "      <td>0.096577</td>\n",
       "      <td>0.851733</td>\n",
       "      <td>0.869141</td>\n",
       "      <td>0.057925</td>\n",
       "      <td>0.932986</td>\n",
       "    </tr>\n",
       "    <tr>\n",
       "      <th>4</th>\n",
       "      <td>0</td>\n",
       "      <td>0.576346</td>\n",
       "      <td>0.601313</td>\n",
       "      <td>0.108888</td>\n",
       "      <td>0.679264</td>\n",
       "      <td>0.131902</td>\n",
       "      <td>0.118812</td>\n",
       "      <td>0.824253</td>\n",
       "      <td>0.851976</td>\n",
       "      <td>0.055538</td>\n",
       "      <td>0.936020</td>\n",
       "    </tr>\n",
       "  </tbody>\n",
       "</table>\n",
       "</div>"
      ],
      "text/plain": [
       "   state  cg00131081  cg02754929  cg05927173  cg09277575  cg09639094  \\\n",
       "0      1    0.512482    0.545598    0.134877    0.728473    0.155251   \n",
       "1      1    0.519339    0.543103    0.130753    0.748660    0.142913   \n",
       "2      0    0.651893    0.461054    0.139808    0.768702    0.139966   \n",
       "3      1    0.497859    0.564870    0.111966    0.741811    0.146469   \n",
       "4      0    0.576346    0.601313    0.108888    0.679264    0.131902   \n",
       "\n",
       "   cg10683793  cg11467680  cg26142604  cg26380756  cg26665209  \n",
       "0    0.127684    0.807769    0.841442    0.053480    0.926206  \n",
       "1    0.111527    0.814765    0.853772    0.063529    0.924064  \n",
       "2    0.126769    0.827576    0.857551    0.062197    0.930667  \n",
       "3    0.096577    0.851733    0.869141    0.057925    0.932986  \n",
       "4    0.118812    0.824253    0.851976    0.055538    0.936020  "
      ]
     },
     "execution_count": 3,
     "metadata": {},
     "output_type": "execute_result"
    }
   ],
   "source": [
    "methyl = methyl.iloc[: , 1:]\n",
    "methyl.head()"
   ]
  },
  {
   "cell_type": "code",
   "execution_count": 4,
   "id": "0dc02ca5",
   "metadata": {},
   "outputs": [],
   "source": [
    "from sklearn.utils import shuffle\n",
    "# shuffle to prevent bias\n",
    "methyl = shuffle(methyl, random_state=420)\n",
    "methyl= methyl.reset_index()\n",
    "methyl = methyl.drop(columns=['index'])"
   ]
  },
  {
   "cell_type": "code",
   "execution_count": 5,
   "id": "56b0c495",
   "metadata": {},
   "outputs": [
    {
     "data": {
      "text/html": [
       "<div>\n",
       "<style scoped>\n",
       "    .dataframe tbody tr th:only-of-type {\n",
       "        vertical-align: middle;\n",
       "    }\n",
       "\n",
       "    .dataframe tbody tr th {\n",
       "        vertical-align: top;\n",
       "    }\n",
       "\n",
       "    .dataframe thead th {\n",
       "        text-align: right;\n",
       "    }\n",
       "</style>\n",
       "<table border=\"1\" class=\"dataframe\">\n",
       "  <thead>\n",
       "    <tr style=\"text-align: right;\">\n",
       "      <th></th>\n",
       "      <th>state</th>\n",
       "      <th>cg00131081</th>\n",
       "      <th>cg02754929</th>\n",
       "      <th>cg05927173</th>\n",
       "      <th>cg09277575</th>\n",
       "      <th>cg09639094</th>\n",
       "      <th>cg10683793</th>\n",
       "      <th>cg11467680</th>\n",
       "      <th>cg26142604</th>\n",
       "      <th>cg26380756</th>\n",
       "      <th>cg26665209</th>\n",
       "    </tr>\n",
       "  </thead>\n",
       "  <tbody>\n",
       "    <tr>\n",
       "      <th>0</th>\n",
       "      <td>0</td>\n",
       "      <td>0.551286</td>\n",
       "      <td>0.750998</td>\n",
       "      <td>0.135834</td>\n",
       "      <td>0.737339</td>\n",
       "      <td>0.136119</td>\n",
       "      <td>0.111167</td>\n",
       "      <td>0.803841</td>\n",
       "      <td>0.859010</td>\n",
       "      <td>0.053597</td>\n",
       "      <td>0.924288</td>\n",
       "    </tr>\n",
       "    <tr>\n",
       "      <th>1</th>\n",
       "      <td>1</td>\n",
       "      <td>0.536589</td>\n",
       "      <td>0.712103</td>\n",
       "      <td>0.111669</td>\n",
       "      <td>0.712777</td>\n",
       "      <td>0.151391</td>\n",
       "      <td>0.113463</td>\n",
       "      <td>0.824924</td>\n",
       "      <td>0.855209</td>\n",
       "      <td>0.058743</td>\n",
       "      <td>0.925775</td>\n",
       "    </tr>\n",
       "    <tr>\n",
       "      <th>2</th>\n",
       "      <td>1</td>\n",
       "      <td>0.494253</td>\n",
       "      <td>0.741179</td>\n",
       "      <td>0.130416</td>\n",
       "      <td>0.742893</td>\n",
       "      <td>0.159534</td>\n",
       "      <td>0.110607</td>\n",
       "      <td>0.814463</td>\n",
       "      <td>0.861940</td>\n",
       "      <td>0.060547</td>\n",
       "      <td>0.932012</td>\n",
       "    </tr>\n",
       "    <tr>\n",
       "      <th>3</th>\n",
       "      <td>1</td>\n",
       "      <td>0.638853</td>\n",
       "      <td>0.720501</td>\n",
       "      <td>0.112520</td>\n",
       "      <td>0.714961</td>\n",
       "      <td>0.146961</td>\n",
       "      <td>0.108323</td>\n",
       "      <td>0.808552</td>\n",
       "      <td>0.870939</td>\n",
       "      <td>0.053936</td>\n",
       "      <td>0.924906</td>\n",
       "    </tr>\n",
       "    <tr>\n",
       "      <th>4</th>\n",
       "      <td>1</td>\n",
       "      <td>0.596857</td>\n",
       "      <td>0.721786</td>\n",
       "      <td>0.130062</td>\n",
       "      <td>0.715126</td>\n",
       "      <td>0.157941</td>\n",
       "      <td>0.111693</td>\n",
       "      <td>0.819120</td>\n",
       "      <td>0.884881</td>\n",
       "      <td>0.052992</td>\n",
       "      <td>0.917946</td>\n",
       "    </tr>\n",
       "    <tr>\n",
       "      <th>5</th>\n",
       "      <td>0</td>\n",
       "      <td>0.486421</td>\n",
       "      <td>0.424482</td>\n",
       "      <td>0.103696</td>\n",
       "      <td>0.728414</td>\n",
       "      <td>0.183749</td>\n",
       "      <td>0.103270</td>\n",
       "      <td>0.824222</td>\n",
       "      <td>0.856570</td>\n",
       "      <td>0.059749</td>\n",
       "      <td>0.931062</td>\n",
       "    </tr>\n",
       "    <tr>\n",
       "      <th>6</th>\n",
       "      <td>1</td>\n",
       "      <td>0.615929</td>\n",
       "      <td>0.634880</td>\n",
       "      <td>0.131051</td>\n",
       "      <td>0.665749</td>\n",
       "      <td>0.171787</td>\n",
       "      <td>0.104027</td>\n",
       "      <td>0.825391</td>\n",
       "      <td>0.867300</td>\n",
       "      <td>0.053593</td>\n",
       "      <td>0.925757</td>\n",
       "    </tr>\n",
       "    <tr>\n",
       "      <th>7</th>\n",
       "      <td>0</td>\n",
       "      <td>0.421580</td>\n",
       "      <td>0.522082</td>\n",
       "      <td>0.111520</td>\n",
       "      <td>0.715380</td>\n",
       "      <td>0.185982</td>\n",
       "      <td>0.125027</td>\n",
       "      <td>0.832000</td>\n",
       "      <td>0.900664</td>\n",
       "      <td>0.057453</td>\n",
       "      <td>0.911989</td>\n",
       "    </tr>\n",
       "    <tr>\n",
       "      <th>8</th>\n",
       "      <td>0</td>\n",
       "      <td>0.533794</td>\n",
       "      <td>0.718443</td>\n",
       "      <td>0.123686</td>\n",
       "      <td>0.690336</td>\n",
       "      <td>0.154784</td>\n",
       "      <td>0.105916</td>\n",
       "      <td>0.803809</td>\n",
       "      <td>0.858781</td>\n",
       "      <td>0.075625</td>\n",
       "      <td>0.941765</td>\n",
       "    </tr>\n",
       "    <tr>\n",
       "      <th>9</th>\n",
       "      <td>0</td>\n",
       "      <td>0.591439</td>\n",
       "      <td>0.577997</td>\n",
       "      <td>0.120188</td>\n",
       "      <td>0.761360</td>\n",
       "      <td>0.142327</td>\n",
       "      <td>0.101530</td>\n",
       "      <td>0.861712</td>\n",
       "      <td>0.866849</td>\n",
       "      <td>0.051292</td>\n",
       "      <td>0.931970</td>\n",
       "    </tr>\n",
       "    <tr>\n",
       "      <th>10</th>\n",
       "      <td>1</td>\n",
       "      <td>0.676144</td>\n",
       "      <td>0.739678</td>\n",
       "      <td>0.130461</td>\n",
       "      <td>0.751580</td>\n",
       "      <td>0.152617</td>\n",
       "      <td>0.095201</td>\n",
       "      <td>0.830885</td>\n",
       "      <td>0.847675</td>\n",
       "      <td>0.063009</td>\n",
       "      <td>0.936952</td>\n",
       "    </tr>\n",
       "    <tr>\n",
       "      <th>11</th>\n",
       "      <td>1</td>\n",
       "      <td>0.675678</td>\n",
       "      <td>0.748682</td>\n",
       "      <td>0.115548</td>\n",
       "      <td>0.756665</td>\n",
       "      <td>0.145278</td>\n",
       "      <td>0.118910</td>\n",
       "      <td>0.833456</td>\n",
       "      <td>0.864554</td>\n",
       "      <td>0.063968</td>\n",
       "      <td>0.930452</td>\n",
       "    </tr>\n",
       "    <tr>\n",
       "      <th>12</th>\n",
       "      <td>0</td>\n",
       "      <td>0.589425</td>\n",
       "      <td>0.521603</td>\n",
       "      <td>0.136952</td>\n",
       "      <td>0.761715</td>\n",
       "      <td>0.122323</td>\n",
       "      <td>0.107016</td>\n",
       "      <td>0.809492</td>\n",
       "      <td>0.853410</td>\n",
       "      <td>0.060179</td>\n",
       "      <td>0.927467</td>\n",
       "    </tr>\n",
       "    <tr>\n",
       "      <th>13</th>\n",
       "      <td>1</td>\n",
       "      <td>0.646026</td>\n",
       "      <td>0.785654</td>\n",
       "      <td>0.110838</td>\n",
       "      <td>0.729471</td>\n",
       "      <td>0.124747</td>\n",
       "      <td>0.112707</td>\n",
       "      <td>0.842333</td>\n",
       "      <td>0.856997</td>\n",
       "      <td>0.061923</td>\n",
       "      <td>0.937467</td>\n",
       "    </tr>\n",
       "    <tr>\n",
       "      <th>14</th>\n",
       "      <td>0</td>\n",
       "      <td>0.651893</td>\n",
       "      <td>0.461054</td>\n",
       "      <td>0.139808</td>\n",
       "      <td>0.768702</td>\n",
       "      <td>0.139966</td>\n",
       "      <td>0.126769</td>\n",
       "      <td>0.827576</td>\n",
       "      <td>0.857551</td>\n",
       "      <td>0.062197</td>\n",
       "      <td>0.930667</td>\n",
       "    </tr>\n",
       "    <tr>\n",
       "      <th>15</th>\n",
       "      <td>1</td>\n",
       "      <td>0.595455</td>\n",
       "      <td>0.756592</td>\n",
       "      <td>0.133522</td>\n",
       "      <td>0.758458</td>\n",
       "      <td>0.173113</td>\n",
       "      <td>0.120978</td>\n",
       "      <td>0.816204</td>\n",
       "      <td>0.865139</td>\n",
       "      <td>0.056002</td>\n",
       "      <td>0.933875</td>\n",
       "    </tr>\n",
       "    <tr>\n",
       "      <th>16</th>\n",
       "      <td>1</td>\n",
       "      <td>0.538204</td>\n",
       "      <td>0.513694</td>\n",
       "      <td>0.143566</td>\n",
       "      <td>0.693121</td>\n",
       "      <td>0.152810</td>\n",
       "      <td>0.097436</td>\n",
       "      <td>0.818817</td>\n",
       "      <td>0.857305</td>\n",
       "      <td>0.066519</td>\n",
       "      <td>0.928833</td>\n",
       "    </tr>\n",
       "    <tr>\n",
       "      <th>17</th>\n",
       "      <td>1</td>\n",
       "      <td>0.565067</td>\n",
       "      <td>0.464394</td>\n",
       "      <td>0.111262</td>\n",
       "      <td>0.622225</td>\n",
       "      <td>0.171074</td>\n",
       "      <td>0.094903</td>\n",
       "      <td>0.826704</td>\n",
       "      <td>0.862062</td>\n",
       "      <td>0.056109</td>\n",
       "      <td>0.918165</td>\n",
       "    </tr>\n",
       "    <tr>\n",
       "      <th>18</th>\n",
       "      <td>0</td>\n",
       "      <td>0.610063</td>\n",
       "      <td>0.576091</td>\n",
       "      <td>0.113004</td>\n",
       "      <td>0.696841</td>\n",
       "      <td>0.140672</td>\n",
       "      <td>0.098901</td>\n",
       "      <td>0.784864</td>\n",
       "      <td>0.861765</td>\n",
       "      <td>0.055502</td>\n",
       "      <td>0.932438</td>\n",
       "    </tr>\n",
       "    <tr>\n",
       "      <th>19</th>\n",
       "      <td>1</td>\n",
       "      <td>0.648322</td>\n",
       "      <td>0.741406</td>\n",
       "      <td>0.124535</td>\n",
       "      <td>0.716712</td>\n",
       "      <td>0.160514</td>\n",
       "      <td>0.110603</td>\n",
       "      <td>0.818166</td>\n",
       "      <td>0.842691</td>\n",
       "      <td>0.066432</td>\n",
       "      <td>0.896725</td>\n",
       "    </tr>\n",
       "  </tbody>\n",
       "</table>\n",
       "</div>"
      ],
      "text/plain": [
       "    state  cg00131081  cg02754929  cg05927173  cg09277575  cg09639094  \\\n",
       "0       0    0.551286    0.750998    0.135834    0.737339    0.136119   \n",
       "1       1    0.536589    0.712103    0.111669    0.712777    0.151391   \n",
       "2       1    0.494253    0.741179    0.130416    0.742893    0.159534   \n",
       "3       1    0.638853    0.720501    0.112520    0.714961    0.146961   \n",
       "4       1    0.596857    0.721786    0.130062    0.715126    0.157941   \n",
       "5       0    0.486421    0.424482    0.103696    0.728414    0.183749   \n",
       "6       1    0.615929    0.634880    0.131051    0.665749    0.171787   \n",
       "7       0    0.421580    0.522082    0.111520    0.715380    0.185982   \n",
       "8       0    0.533794    0.718443    0.123686    0.690336    0.154784   \n",
       "9       0    0.591439    0.577997    0.120188    0.761360    0.142327   \n",
       "10      1    0.676144    0.739678    0.130461    0.751580    0.152617   \n",
       "11      1    0.675678    0.748682    0.115548    0.756665    0.145278   \n",
       "12      0    0.589425    0.521603    0.136952    0.761715    0.122323   \n",
       "13      1    0.646026    0.785654    0.110838    0.729471    0.124747   \n",
       "14      0    0.651893    0.461054    0.139808    0.768702    0.139966   \n",
       "15      1    0.595455    0.756592    0.133522    0.758458    0.173113   \n",
       "16      1    0.538204    0.513694    0.143566    0.693121    0.152810   \n",
       "17      1    0.565067    0.464394    0.111262    0.622225    0.171074   \n",
       "18      0    0.610063    0.576091    0.113004    0.696841    0.140672   \n",
       "19      1    0.648322    0.741406    0.124535    0.716712    0.160514   \n",
       "\n",
       "    cg10683793  cg11467680  cg26142604  cg26380756  cg26665209  \n",
       "0     0.111167    0.803841    0.859010    0.053597    0.924288  \n",
       "1     0.113463    0.824924    0.855209    0.058743    0.925775  \n",
       "2     0.110607    0.814463    0.861940    0.060547    0.932012  \n",
       "3     0.108323    0.808552    0.870939    0.053936    0.924906  \n",
       "4     0.111693    0.819120    0.884881    0.052992    0.917946  \n",
       "5     0.103270    0.824222    0.856570    0.059749    0.931062  \n",
       "6     0.104027    0.825391    0.867300    0.053593    0.925757  \n",
       "7     0.125027    0.832000    0.900664    0.057453    0.911989  \n",
       "8     0.105916    0.803809    0.858781    0.075625    0.941765  \n",
       "9     0.101530    0.861712    0.866849    0.051292    0.931970  \n",
       "10    0.095201    0.830885    0.847675    0.063009    0.936952  \n",
       "11    0.118910    0.833456    0.864554    0.063968    0.930452  \n",
       "12    0.107016    0.809492    0.853410    0.060179    0.927467  \n",
       "13    0.112707    0.842333    0.856997    0.061923    0.937467  \n",
       "14    0.126769    0.827576    0.857551    0.062197    0.930667  \n",
       "15    0.120978    0.816204    0.865139    0.056002    0.933875  \n",
       "16    0.097436    0.818817    0.857305    0.066519    0.928833  \n",
       "17    0.094903    0.826704    0.862062    0.056109    0.918165  \n",
       "18    0.098901    0.784864    0.861765    0.055502    0.932438  \n",
       "19    0.110603    0.818166    0.842691    0.066432    0.896725  "
      ]
     },
     "execution_count": 5,
     "metadata": {},
     "output_type": "execute_result"
    }
   ],
   "source": [
    "methyl.head(20)"
   ]
  },
  {
   "cell_type": "code",
   "execution_count": 5,
   "id": "5985e7f6",
   "metadata": {},
   "outputs": [
    {
     "name": "stdout",
     "output_type": "stream",
     "text": [
      "10 NN Score: 46.67%\n"
     ]
    },
    {
     "data": {
      "text/plain": [
       "array([[13,  4,  1],\n",
       "       [ 8, 14,  2],\n",
       "       [ 7, 10,  1]])"
      ]
     },
     "execution_count": 5,
     "metadata": {},
     "output_type": "execute_result"
    }
   ],
   "source": [
    "#create a dict to keep track of the accuracy of each model\n",
    "accuracies = {}\n",
    "X = methyl.values\n",
    "y = methyl['state'].values\n",
    "X = np.delete(X,0,axis=1)\n",
    "x_train, x_test, y_train, y_test = train_test_split(X,y,test_size = 0.2,random_state=1)\n",
    "scoreList = []\n",
    "# KNN Model\n",
    "from sklearn.neighbors import KNeighborsClassifier\n",
    "knn = KNeighborsClassifier(n_neighbors = 30)  \n",
    "knn.fit(x_train, y_train)\n",
    "\n",
    "print(\"{} NN Score: {:.2f}%\".format(10, knn.score(x_test, y_test)*100))\n",
    "knn_predictions = knn.predict(x_test)\n",
    "scoreList.append(knn.score(x_test, y_test))\n",
    "acc = max(scoreList)*100\n",
    "confusion_matrix(y_test, knn_predictions)\n",
    "#bad accuracy so we do hyperparamter tuning"
   ]
  },
  {
   "cell_type": "code",
   "execution_count": 6,
   "id": "a8db1020",
   "metadata": {},
   "outputs": [
    {
     "name": "stdout",
     "output_type": "stream",
     "text": [
      "              precision    recall  f1-score   support\n",
      "\n",
      "           0       0.46      0.72      0.57        18\n",
      "           1       0.50      0.58      0.54        24\n",
      "           2       0.25      0.06      0.09        18\n",
      "\n",
      "    accuracy                           0.47        60\n",
      "   macro avg       0.40      0.45      0.40        60\n",
      "weighted avg       0.41      0.47      0.41        60\n",
      "\n"
     ]
    }
   ],
   "source": [
    "from sklearn.metrics import classification_report\n",
    "print(classification_report(y_test, knn_predictions))"
   ]
  },
  {
   "cell_type": "code",
   "execution_count": 7,
   "id": "0e49e3e2",
   "metadata": {},
   "outputs": [
    {
     "data": {
      "text/plain": [
       "array([1, 0, 1, 0, 0, 0, 0, 1, 1, 0, 0, 0, 0, 1, 0, 1, 0, 1, 0, 2, 0, 1,\n",
       "       0, 1, 1, 1, 0, 2, 1, 0, 1, 1, 1, 1, 0, 0, 0, 0, 0, 1, 2, 2, 1, 1,\n",
       "       1, 0, 0, 1, 0, 0, 1, 1, 1, 1, 1, 1, 0, 0, 0, 1])"
      ]
     },
     "execution_count": 7,
     "metadata": {},
     "output_type": "execute_result"
    }
   ],
   "source": [
    "knn_predictions\n"
   ]
  },
  {
   "cell_type": "code",
   "execution_count": 194,
   "id": "075d550b",
   "metadata": {},
   "outputs": [
    {
     "name": "stdout",
     "output_type": "stream",
     "text": [
      "Best leaf_size: 1\n",
      "Best p: 1\n",
      "Best n_neighbors: 28\n"
     ]
    }
   ],
   "source": [
    "#when hyperparamter tuning, we will use either grid search cv or randomized search cv depending on convenience/efficiency \n",
    "from sklearn.model_selection import GridSearchCV\n",
    "#List Hyperparameters that we want to tune.\n",
    "leaf_size = list(range(1,50))\n",
    "n_neighbors = list(range(1,30))\n",
    "p=[1,2]\n",
    "#Convert to dictionary\n",
    "hyperparameters = dict(leaf_size=leaf_size, n_neighbors=n_neighbors, p=p)\n",
    "#Create new KNN object\n",
    "knn_2 = KNeighborsClassifier()\n",
    "#Use GridSearch\n",
    "clf = GridSearchCV(knn_2, hyperparameters, cv=5)\n",
    "#Fit the model\n",
    "best_model = clf.fit(X,y)\n",
    "#Print The value of best Hyperparameters\n",
    "print('Best leaf_size:', best_model.best_estimator_.get_params()['leaf_size'])\n",
    "print('Best p:', best_model.best_estimator_.get_params()['p'])\n",
    "print('Best n_neighbors:', best_model.best_estimator_.get_params()['n_neighbors'])"
   ]
  },
  {
   "cell_type": "code",
   "execution_count": 195,
   "id": "ce0ade8f",
   "metadata": {},
   "outputs": [
    {
     "name": "stdout",
     "output_type": "stream",
     "text": [
      "28 NN Score: 78.95%\n"
     ]
    },
    {
     "data": {
      "text/plain": [
       "array([[15,  2],\n",
       "       [ 6, 15]])"
      ]
     },
     "execution_count": 195,
     "metadata": {},
     "output_type": "execute_result"
    }
   ],
   "source": [
    "from sklearn.neighbors import KNeighborsClassifier\n",
    "knn = KNeighborsClassifier(n_neighbors = 28, leaf_size = 1, p =1)  \n",
    "knn.fit(x_train, y_train)\n",
    "\n",
    "print(\"{} NN Score: {:.2f}%\".format(28, knn.score(x_test, y_test)*100))\n",
    "knn_predictions = knn.predict(x_test)\n",
    "scoreList.append(knn.score(x_test, y_test))\n",
    "acc = max(scoreList)*100\n",
    "accuracies['KNN'] = acc\n",
    "confusion_matrix(y_test, knn_predictions)\n",
    "#better but still bad - cross validation should be able to improve it"
   ]
  },
  {
   "cell_type": "code",
   "execution_count": 196,
   "id": "d11ed74f",
   "metadata": {},
   "outputs": [
    {
     "name": "stdout",
     "output_type": "stream",
     "text": [
      "              precision    recall  f1-score   support\n",
      "\n",
      "           0       0.71      0.88      0.79        17\n",
      "           1       0.88      0.71      0.79        21\n",
      "\n",
      "    accuracy                           0.79        38\n",
      "   macro avg       0.80      0.80      0.79        38\n",
      "weighted avg       0.81      0.79      0.79        38\n",
      "\n"
     ]
    }
   ],
   "source": [
    "print(classification_report(y_test, knn_predictions))"
   ]
  },
  {
   "cell_type": "code",
   "execution_count": 198,
   "id": "564ba727",
   "metadata": {},
   "outputs": [
    {
     "name": "stdout",
     "output_type": "stream",
     "text": [
      "Random Forest Algorithm Accuracy Score : 78.95%\n"
     ]
    },
    {
     "data": {
      "text/plain": [
       "array([[14,  3],\n",
       "       [ 2, 19]])"
      ]
     },
     "execution_count": 198,
     "metadata": {},
     "output_type": "execute_result"
    }
   ],
   "source": [
    "#random forest classifier\n",
    "from sklearn.ensemble import RandomForestClassifier\n",
    "rf = RandomForestClassifier(n_estimators = 1000, random_state = 2)\n",
    "rf.fit(x_train, y_train)\n",
    "\n",
    "print(\"Random Forest Algorithm Accuracy Score : {:.2f}%\".format(acc))\n",
    "rf_predictions = rf.predict(x_test)\n",
    "confusion_matrix(y_test, rf_predictions)\n"
   ]
  },
  {
   "cell_type": "code",
   "execution_count": 199,
   "id": "2d5a98ca",
   "metadata": {},
   "outputs": [
    {
     "name": "stdout",
     "output_type": "stream",
     "text": [
      "              precision    recall  f1-score   support\n",
      "\n",
      "           0       0.88      0.82      0.85        17\n",
      "           1       0.86      0.90      0.88        21\n",
      "\n",
      "    accuracy                           0.87        38\n",
      "   macro avg       0.87      0.86      0.87        38\n",
      "weighted avg       0.87      0.87      0.87        38\n",
      "\n"
     ]
    }
   ],
   "source": [
    "print(classification_report(y_test, rf_predictions))"
   ]
  },
  {
   "cell_type": "code",
   "execution_count": 29,
   "id": "873f871b",
   "metadata": {},
   "outputs": [
    {
     "name": "stdout",
     "output_type": "stream",
     "text": [
      "{'n_estimators': [200, 400, 600, 800, 1000, 1200, 1400, 1600, 1800, 2000], 'max_features': ['auto', 'sqrt'], 'max_depth': [10, 20, 30, 40, 50, 60, 70, 80, 90, 100, 110, None], 'min_samples_split': [2, 5, 10], 'min_samples_leaf': [1, 2, 4], 'bootstrap': [True, False]}\n"
     ]
    }
   ],
   "source": [
    "from sklearn.model_selection import RandomizedSearchCV\n",
    "\n",
    "# Number of trees in random forest\n",
    "n_estimators = [int(x) for x in np.linspace(start = 200, stop = 2000, num = 10)]\n",
    "# Number of features to consider at every split\n",
    "max_features = ['auto', 'sqrt']\n",
    "# Maximum number of levels in tree\n",
    "max_depth = [int(x) for x in np.linspace(10, 110, num = 11)]\n",
    "max_depth.append(None)\n",
    "# Minimum number of samples required to split a node\n",
    "min_samples_split = [2, 5, 10]\n",
    "# Minimum number of samples required at each leaf node\n",
    "min_samples_leaf = [1, 2, 4]\n",
    "# Method of selecting samples for training each tree\n",
    "bootstrap = [True, False]\n",
    "# Create the random grid\n",
    "random_grid = {'n_estimators': n_estimators,\n",
    "               'max_features': max_features,\n",
    "               'max_depth': max_depth,\n",
    "               'min_samples_split': min_samples_split,\n",
    "               'min_samples_leaf': min_samples_leaf,\n",
    "               'bootstrap': bootstrap}\n",
    "print(random_grid)"
   ]
  },
  {
   "cell_type": "code",
   "execution_count": 202,
   "id": "f7931f74",
   "metadata": {},
   "outputs": [
    {
     "name": "stdout",
     "output_type": "stream",
     "text": [
      "Fitting 3 folds for each of 500 candidates, totalling 1500 fits\n"
     ]
    },
    {
     "data": {
      "text/plain": [
       "RandomizedSearchCV(cv=3, estimator=RandomForestClassifier(), n_iter=500,\n",
       "                   n_jobs=-1,\n",
       "                   param_distributions={'bootstrap': [True, False],\n",
       "                                        'max_depth': [10, 20, 30, 40, 50, 60,\n",
       "                                                      70, 80, 90, 100, 110,\n",
       "                                                      None],\n",
       "                                        'max_features': ['auto', 'sqrt'],\n",
       "                                        'min_samples_leaf': [1, 2, 4],\n",
       "                                        'min_samples_split': [2, 5, 10],\n",
       "                                        'n_estimators': [200, 400, 600, 800,\n",
       "                                                         1000, 1200, 1400, 1600,\n",
       "                                                         1800, 2000]},\n",
       "                   random_state=42, verbose=2)"
      ]
     },
     "execution_count": 202,
     "metadata": {},
     "output_type": "execute_result"
    }
   ],
   "source": [
    "rf3 = RandomForestClassifier()\n",
    "# Random search of parameters, using 3 fold cross validation, \n",
    "# search across 100 different combinations, and use all available cores\n",
    "rf_random = RandomizedSearchCV(estimator = rf3, param_distributions = random_grid, n_iter = 500, cv = 3, verbose=2, random_state=42, n_jobs = -1)\n",
    "# Fit the random search model\n",
    "rf_random.fit(X,y)"
   ]
  },
  {
   "cell_type": "code",
   "execution_count": 203,
   "id": "86ed7f02",
   "metadata": {},
   "outputs": [
    {
     "data": {
      "text/plain": [
       "{'n_estimators': 1600,\n",
       " 'min_samples_split': 10,\n",
       " 'min_samples_leaf': 1,\n",
       " 'max_features': 'sqrt',\n",
       " 'max_depth': None,\n",
       " 'bootstrap': True}"
      ]
     },
     "execution_count": 203,
     "metadata": {},
     "output_type": "execute_result"
    }
   ],
   "source": [
    "rf_random.best_params_"
   ]
  },
  {
   "cell_type": "code",
   "execution_count": 204,
   "id": "1859f0da",
   "metadata": {},
   "outputs": [
    {
     "name": "stdout",
     "output_type": "stream",
     "text": [
      "Random Forest Algorithm Accuracy Score : 84.21%\n"
     ]
    }
   ],
   "source": [
    "from sklearn.ensemble import RandomForestClassifier\n",
    "rf = RandomForestClassifier(n_estimators = 1600, min_samples_split = 10, min_samples_leaf = 1, max_features = 'sqrt', max_depth = None, bootstrap = True, random_state = 521)\n",
    "rf.fit(x_train, y_train)\n",
    "acc = rf.score(x_test,y_test)*100\n",
    "accuracies['Random Forest'] = acc\n",
    "print(\"Random Forest Algorithm Accuracy Score : {:.2f}%\".format(acc))\n",
    "rf_predictions = rf.predict(x_test)\n",
    "confusion_matrix(y_test, rf_predictions)\n",
    "acc = rf.score(x_test,y_test)*100\n",
    "accuracies['Random Forest'] = acc\n"
   ]
  },
  {
   "cell_type": "code",
   "execution_count": 205,
   "id": "569f71c5",
   "metadata": {},
   "outputs": [
    {
     "name": "stdout",
     "output_type": "stream",
     "text": [
      "Decision Tree Test Accuracy 68.42|%\n"
     ]
    },
    {
     "data": {
      "text/plain": [
       "array([[12,  5],\n",
       "       [ 7, 14]])"
      ]
     },
     "execution_count": 205,
     "metadata": {},
     "output_type": "execute_result"
    }
   ],
   "source": [
    "#desicion tree \n",
    "from sklearn.tree import DecisionTreeClassifier\n",
    "dtc = DecisionTreeClassifier(max_depth = 3, random_state = 3)\n",
    "dtc.fit(x_train, y_train)\n",
    "acc = dtc.score(x_test, y_test)*100\n",
    "print(\"Decision Tree Test Accuracy {:.2f}|%\".format(acc))\n",
    "dtc_predictions = dtc.predict(x_test)\n",
    "confusion_matrix(y_test, dtc_predictions)"
   ]
  },
  {
   "cell_type": "code",
   "execution_count": 206,
   "id": "f7b17736",
   "metadata": {},
   "outputs": [
    {
     "name": "stdout",
     "output_type": "stream",
     "text": [
      "              precision    recall  f1-score   support\n",
      "\n",
      "           0       0.63      0.71      0.67        17\n",
      "           1       0.74      0.67      0.70        21\n",
      "\n",
      "    accuracy                           0.68        38\n",
      "   macro avg       0.68      0.69      0.68        38\n",
      "weighted avg       0.69      0.68      0.69        38\n",
      "\n"
     ]
    }
   ],
   "source": [
    "print(classification_report(y_test, dtc_predictions))"
   ]
  },
  {
   "cell_type": "code",
   "execution_count": 207,
   "id": "b870e4b4",
   "metadata": {},
   "outputs": [
    {
     "name": "stdout",
     "output_type": "stream",
     "text": [
      "Fitting 3 folds for each of 50 candidates, totalling 150 fits\n"
     ]
    }
   ],
   "source": [
    "dtc = DecisionTreeClassifier()\n",
    "params = {\n",
    "    'max_depth': [2, 3, 5, 10, 20],\n",
    "    'min_samples_leaf': [5, 10, 20, 50, 100],\n",
    "    'criterion': [\"gini\", \"entropy\"]\n",
    "}\n",
    "grid_search = GridSearchCV(estimator=dtc, \n",
    "                           param_grid=params, \n",
    "                           cv=3, n_jobs=-1, verbose=1, scoring = \"accuracy\")\n",
    "grid_search.fit(X,y);"
   ]
  },
  {
   "cell_type": "code",
   "execution_count": 208,
   "id": "332bf760",
   "metadata": {},
   "outputs": [
    {
     "data": {
      "text/html": [
       "<div>\n",
       "<style scoped>\n",
       "    .dataframe tbody tr th:only-of-type {\n",
       "        vertical-align: middle;\n",
       "    }\n",
       "\n",
       "    .dataframe tbody tr th {\n",
       "        vertical-align: top;\n",
       "    }\n",
       "\n",
       "    .dataframe thead th {\n",
       "        text-align: right;\n",
       "    }\n",
       "</style>\n",
       "<table border=\"1\" class=\"dataframe\">\n",
       "  <thead>\n",
       "    <tr style=\"text-align: right;\">\n",
       "      <th></th>\n",
       "      <th>mean_fit_time</th>\n",
       "      <th>std_fit_time</th>\n",
       "      <th>mean_score_time</th>\n",
       "      <th>std_score_time</th>\n",
       "      <th>param_criterion</th>\n",
       "      <th>param_max_depth</th>\n",
       "      <th>param_min_samples_leaf</th>\n",
       "      <th>params</th>\n",
       "      <th>split0_test_score</th>\n",
       "      <th>split1_test_score</th>\n",
       "      <th>split2_test_score</th>\n",
       "      <th>mean_test_score</th>\n",
       "      <th>std_test_score</th>\n",
       "      <th>rank_test_score</th>\n",
       "    </tr>\n",
       "  </thead>\n",
       "  <tbody>\n",
       "    <tr>\n",
       "      <th>0</th>\n",
       "      <td>0.000617</td>\n",
       "      <td>0.000046</td>\n",
       "      <td>0.000225</td>\n",
       "      <td>0.000021</td>\n",
       "      <td>gini</td>\n",
       "      <td>2</td>\n",
       "      <td>5</td>\n",
       "      <td>{'criterion': 'gini', 'max_depth': 2, 'min_sam...</td>\n",
       "      <td>0.650794</td>\n",
       "      <td>0.571429</td>\n",
       "      <td>0.666667</td>\n",
       "      <td>0.629630</td>\n",
       "      <td>0.041661</td>\n",
       "      <td>16</td>\n",
       "    </tr>\n",
       "    <tr>\n",
       "      <th>1</th>\n",
       "      <td>0.000581</td>\n",
       "      <td>0.000077</td>\n",
       "      <td>0.000211</td>\n",
       "      <td>0.000016</td>\n",
       "      <td>gini</td>\n",
       "      <td>2</td>\n",
       "      <td>10</td>\n",
       "      <td>{'criterion': 'gini', 'max_depth': 2, 'min_sam...</td>\n",
       "      <td>0.619048</td>\n",
       "      <td>0.634921</td>\n",
       "      <td>0.666667</td>\n",
       "      <td>0.640212</td>\n",
       "      <td>0.019797</td>\n",
       "      <td>15</td>\n",
       "    </tr>\n",
       "    <tr>\n",
       "      <th>2</th>\n",
       "      <td>0.000620</td>\n",
       "      <td>0.000050</td>\n",
       "      <td>0.000274</td>\n",
       "      <td>0.000045</td>\n",
       "      <td>gini</td>\n",
       "      <td>2</td>\n",
       "      <td>20</td>\n",
       "      <td>{'criterion': 'gini', 'max_depth': 2, 'min_sam...</td>\n",
       "      <td>0.603175</td>\n",
       "      <td>0.555556</td>\n",
       "      <td>0.650794</td>\n",
       "      <td>0.603175</td>\n",
       "      <td>0.038881</td>\n",
       "      <td>20</td>\n",
       "    </tr>\n",
       "    <tr>\n",
       "      <th>3</th>\n",
       "      <td>0.000542</td>\n",
       "      <td>0.000092</td>\n",
       "      <td>0.000261</td>\n",
       "      <td>0.000041</td>\n",
       "      <td>gini</td>\n",
       "      <td>2</td>\n",
       "      <td>50</td>\n",
       "      <td>{'criterion': 'gini', 'max_depth': 2, 'min_sam...</td>\n",
       "      <td>0.650794</td>\n",
       "      <td>0.492063</td>\n",
       "      <td>0.650794</td>\n",
       "      <td>0.597884</td>\n",
       "      <td>0.074826</td>\n",
       "      <td>23</td>\n",
       "    </tr>\n",
       "    <tr>\n",
       "      <th>4</th>\n",
       "      <td>0.000330</td>\n",
       "      <td>0.000012</td>\n",
       "      <td>0.000203</td>\n",
       "      <td>0.000018</td>\n",
       "      <td>gini</td>\n",
       "      <td>2</td>\n",
       "      <td>100</td>\n",
       "      <td>{'criterion': 'gini', 'max_depth': 2, 'min_sam...</td>\n",
       "      <td>0.507937</td>\n",
       "      <td>0.507937</td>\n",
       "      <td>0.507937</td>\n",
       "      <td>0.507937</td>\n",
       "      <td>0.000000</td>\n",
       "      <td>41</td>\n",
       "    </tr>\n",
       "  </tbody>\n",
       "</table>\n",
       "</div>"
      ],
      "text/plain": [
       "   mean_fit_time  std_fit_time  mean_score_time  std_score_time  \\\n",
       "0       0.000617      0.000046         0.000225        0.000021   \n",
       "1       0.000581      0.000077         0.000211        0.000016   \n",
       "2       0.000620      0.000050         0.000274        0.000045   \n",
       "3       0.000542      0.000092         0.000261        0.000041   \n",
       "4       0.000330      0.000012         0.000203        0.000018   \n",
       "\n",
       "  param_criterion param_max_depth param_min_samples_leaf  \\\n",
       "0            gini               2                      5   \n",
       "1            gini               2                     10   \n",
       "2            gini               2                     20   \n",
       "3            gini               2                     50   \n",
       "4            gini               2                    100   \n",
       "\n",
       "                                              params  split0_test_score  \\\n",
       "0  {'criterion': 'gini', 'max_depth': 2, 'min_sam...           0.650794   \n",
       "1  {'criterion': 'gini', 'max_depth': 2, 'min_sam...           0.619048   \n",
       "2  {'criterion': 'gini', 'max_depth': 2, 'min_sam...           0.603175   \n",
       "3  {'criterion': 'gini', 'max_depth': 2, 'min_sam...           0.650794   \n",
       "4  {'criterion': 'gini', 'max_depth': 2, 'min_sam...           0.507937   \n",
       "\n",
       "   split1_test_score  split2_test_score  mean_test_score  std_test_score  \\\n",
       "0           0.571429           0.666667         0.629630        0.041661   \n",
       "1           0.634921           0.666667         0.640212        0.019797   \n",
       "2           0.555556           0.650794         0.603175        0.038881   \n",
       "3           0.492063           0.650794         0.597884        0.074826   \n",
       "4           0.507937           0.507937         0.507937        0.000000   \n",
       "\n",
       "   rank_test_score  \n",
       "0               16  \n",
       "1               15  \n",
       "2               20  \n",
       "3               23  \n",
       "4               41  "
      ]
     },
     "execution_count": 208,
     "metadata": {},
     "output_type": "execute_result"
    }
   ],
   "source": [
    "score_df = pd.DataFrame(grid_search.cv_results_)\n",
    "score_df.head()"
   ]
  },
  {
   "cell_type": "code",
   "execution_count": 209,
   "id": "8538847f",
   "metadata": {},
   "outputs": [
    {
     "data": {
      "text/plain": [
       "DecisionTreeClassifier(max_depth=20, min_samples_leaf=5)"
      ]
     },
     "execution_count": 209,
     "metadata": {},
     "output_type": "execute_result"
    }
   ],
   "source": [
    "grid_search.best_estimator_"
   ]
  },
  {
   "cell_type": "code",
   "execution_count": 210,
   "id": "1dab7703",
   "metadata": {},
   "outputs": [
    {
     "data": {
      "text/plain": [
       "0.7142857142857143"
      ]
     },
     "execution_count": 210,
     "metadata": {},
     "output_type": "execute_result"
    }
   ],
   "source": [
    "grid_search.best_score_"
   ]
  },
  {
   "cell_type": "code",
   "execution_count": 211,
   "id": "315ad7b6",
   "metadata": {},
   "outputs": [
    {
     "name": "stdout",
     "output_type": "stream",
     "text": [
      "Decision Tree Test Accuracy 78.95|%\n"
     ]
    },
    {
     "data": {
      "text/plain": [
       "array([[14,  3],\n",
       "       [ 5, 16]])"
      ]
     },
     "execution_count": 211,
     "metadata": {},
     "output_type": "execute_result"
    }
   ],
   "source": [
    "dtc2 = DecisionTreeClassifier(criterion='gini',max_depth = 5, min_samples_leaf=5)\n",
    "dtc2.fit(x_train, y_train)\n",
    "acc = dtc2.score(x_test, y_test)*100\n",
    "accuracies['Decision Tree'] = acc\n",
    "print(\"Decision Tree Test Accuracy {:.2f}|%\".format(acc))\n",
    "dtc2_predictions = dtc2.predict(x_test)\n",
    "confusion_matrix(y_test, dtc2_predictions)\n"
   ]
  },
  {
   "cell_type": "code",
   "execution_count": 212,
   "id": "42d6ec2b",
   "metadata": {},
   "outputs": [
    {
     "name": "stdout",
     "output_type": "stream",
     "text": [
      "Test Accuracy of SVM Algorithm: 78.95%\n"
     ]
    },
    {
     "data": {
      "text/plain": [
       "array([[14,  3],\n",
       "       [ 5, 16]])"
      ]
     },
     "execution_count": 212,
     "metadata": {},
     "output_type": "execute_result"
    }
   ],
   "source": [
    "#support vector machine\n",
    "from sklearn.svm import SVC\n",
    "svm = SVC(random_state = 4)\n",
    "svm=SVC(probability=True)\n",
    "\n",
    "svm.fit(x_train, y_train)\n",
    "acc = svm.score(x_test,y_test)*100\n",
    "svm_predictions = svm.predict(x_test)\n",
    "print(\"Test Accuracy of SVM Algorithm: {:.2f}%\".format(acc))\n",
    "confusion_matrix(y_test, svm_predictions)"
   ]
  },
  {
   "cell_type": "code",
   "execution_count": 213,
   "id": "1e9c4a44",
   "metadata": {},
   "outputs": [
    {
     "name": "stdout",
     "output_type": "stream",
     "text": [
      "              precision    recall  f1-score   support\n",
      "\n",
      "           0       0.74      0.82      0.78        17\n",
      "           1       0.84      0.76      0.80        21\n",
      "\n",
      "    accuracy                           0.79        38\n",
      "   macro avg       0.79      0.79      0.79        38\n",
      "weighted avg       0.80      0.79      0.79        38\n",
      "\n"
     ]
    }
   ],
   "source": [
    "print(classification_report(y_test, svm_predictions))"
   ]
  },
  {
   "cell_type": "code",
   "execution_count": 225,
   "id": "eb4f4730",
   "metadata": {},
   "outputs": [
    {
     "name": "stdout",
     "output_type": "stream",
     "text": [
      "Fitting 4 folds for each of 48 candidates, totalling 192 fits\n",
      "[CV 1/4] END .....................C=0.1, gamma=1, kernel=rbf; total time=   0.0s\n",
      "[CV 2/4] END .....................C=0.1, gamma=1, kernel=rbf; total time=   0.0s\n",
      "[CV 3/4] END .....................C=0.1, gamma=1, kernel=rbf; total time=   0.0s\n",
      "[CV 4/4] END .....................C=0.1, gamma=1, kernel=rbf; total time=   0.0s\n",
      "[CV 1/4] END ....................C=0.1, gamma=1, kernel=poly; total time=   0.0s\n",
      "[CV 2/4] END ....................C=0.1, gamma=1, kernel=poly; total time=   0.0s\n",
      "[CV 3/4] END ....................C=0.1, gamma=1, kernel=poly; total time=   0.0s\n",
      "[CV 4/4] END ....................C=0.1, gamma=1, kernel=poly; total time=   0.0s\n",
      "[CV 1/4] END .................C=0.1, gamma=1, kernel=sigmoid; total time=   0.0s\n",
      "[CV 2/4] END .................C=0.1, gamma=1, kernel=sigmoid; total time=   0.0s\n",
      "[CV 3/4] END .................C=0.1, gamma=1, kernel=sigmoid; total time=   0.0s\n",
      "[CV 4/4] END .................C=0.1, gamma=1, kernel=sigmoid; total time=   0.0s\n",
      "[CV 1/4] END ...................C=0.1, gamma=0.1, kernel=rbf; total time=   0.0s\n",
      "[CV 2/4] END ...................C=0.1, gamma=0.1, kernel=rbf; total time=   0.0s\n",
      "[CV 3/4] END ...................C=0.1, gamma=0.1, kernel=rbf; total time=   0.0s\n",
      "[CV 4/4] END ...................C=0.1, gamma=0.1, kernel=rbf; total time=   0.0s\n",
      "[CV 1/4] END ..................C=0.1, gamma=0.1, kernel=poly; total time=   0.0s\n",
      "[CV 2/4] END ..................C=0.1, gamma=0.1, kernel=poly; total time=   0.0s\n",
      "[CV 3/4] END ..................C=0.1, gamma=0.1, kernel=poly; total time=   0.0s\n",
      "[CV 4/4] END ..................C=0.1, gamma=0.1, kernel=poly; total time=   0.0s\n",
      "[CV 1/4] END ...............C=0.1, gamma=0.1, kernel=sigmoid; total time=   0.0s\n",
      "[CV 2/4] END ...............C=0.1, gamma=0.1, kernel=sigmoid; total time=   0.0s\n",
      "[CV 3/4] END ...............C=0.1, gamma=0.1, kernel=sigmoid; total time=   0.0s\n",
      "[CV 4/4] END ...............C=0.1, gamma=0.1, kernel=sigmoid; total time=   0.0s\n",
      "[CV 1/4] END ..................C=0.1, gamma=0.01, kernel=rbf; total time=   0.0s\n",
      "[CV 2/4] END ..................C=0.1, gamma=0.01, kernel=rbf; total time=   0.0s\n",
      "[CV 3/4] END ..................C=0.1, gamma=0.01, kernel=rbf; total time=   0.0s\n",
      "[CV 4/4] END ..................C=0.1, gamma=0.01, kernel=rbf; total time=   0.0s\n",
      "[CV 1/4] END .................C=0.1, gamma=0.01, kernel=poly; total time=   0.0s\n",
      "[CV 2/4] END .................C=0.1, gamma=0.01, kernel=poly; total time=   0.0s\n",
      "[CV 3/4] END .................C=0.1, gamma=0.01, kernel=poly; total time=   0.0s\n",
      "[CV 4/4] END .................C=0.1, gamma=0.01, kernel=poly; total time=   0.0s\n",
      "[CV 1/4] END ..............C=0.1, gamma=0.01, kernel=sigmoid; total time=   0.0s\n",
      "[CV 2/4] END ..............C=0.1, gamma=0.01, kernel=sigmoid; total time=   0.0s\n",
      "[CV 3/4] END ..............C=0.1, gamma=0.01, kernel=sigmoid; total time=   0.0s\n",
      "[CV 4/4] END ..............C=0.1, gamma=0.01, kernel=sigmoid; total time=   0.0s\n",
      "[CV 1/4] END .................C=0.1, gamma=0.001, kernel=rbf; total time=   0.0s\n",
      "[CV 2/4] END .................C=0.1, gamma=0.001, kernel=rbf; total time=   0.0s\n",
      "[CV 3/4] END .................C=0.1, gamma=0.001, kernel=rbf; total time=   0.0s\n",
      "[CV 4/4] END .................C=0.1, gamma=0.001, kernel=rbf; total time=   0.0s\n",
      "[CV 1/4] END ................C=0.1, gamma=0.001, kernel=poly; total time=   0.0s\n",
      "[CV 2/4] END ................C=0.1, gamma=0.001, kernel=poly; total time=   0.0s\n",
      "[CV 3/4] END ................C=0.1, gamma=0.001, kernel=poly; total time=   0.0s\n",
      "[CV 4/4] END ................C=0.1, gamma=0.001, kernel=poly; total time=   0.0s\n",
      "[CV 1/4] END .............C=0.1, gamma=0.001, kernel=sigmoid; total time=   0.0s\n",
      "[CV 2/4] END .............C=0.1, gamma=0.001, kernel=sigmoid; total time=   0.0s\n",
      "[CV 3/4] END .............C=0.1, gamma=0.001, kernel=sigmoid; total time=   0.0s\n",
      "[CV 4/4] END .............C=0.1, gamma=0.001, kernel=sigmoid; total time=   0.0s\n",
      "[CV 1/4] END .......................C=1, gamma=1, kernel=rbf; total time=   0.0s\n",
      "[CV 2/4] END .......................C=1, gamma=1, kernel=rbf; total time=   0.0s\n",
      "[CV 3/4] END .......................C=1, gamma=1, kernel=rbf; total time=   0.0s\n",
      "[CV 4/4] END .......................C=1, gamma=1, kernel=rbf; total time=   0.0s\n",
      "[CV 1/4] END ......................C=1, gamma=1, kernel=poly; total time=   0.0s\n",
      "[CV 2/4] END ......................C=1, gamma=1, kernel=poly; total time=   0.0s\n",
      "[CV 3/4] END ......................C=1, gamma=1, kernel=poly; total time=   0.0s\n",
      "[CV 4/4] END ......................C=1, gamma=1, kernel=poly; total time=   0.0s\n",
      "[CV 1/4] END ...................C=1, gamma=1, kernel=sigmoid; total time=   0.0s\n",
      "[CV 2/4] END ...................C=1, gamma=1, kernel=sigmoid; total time=   0.0s\n",
      "[CV 3/4] END ...................C=1, gamma=1, kernel=sigmoid; total time=   0.0s\n",
      "[CV 4/4] END ...................C=1, gamma=1, kernel=sigmoid; total time=   0.0s\n",
      "[CV 1/4] END .....................C=1, gamma=0.1, kernel=rbf; total time=   0.0s\n",
      "[CV 2/4] END .....................C=1, gamma=0.1, kernel=rbf; total time=   0.0s\n",
      "[CV 3/4] END .....................C=1, gamma=0.1, kernel=rbf; total time=   0.0s\n",
      "[CV 4/4] END .....................C=1, gamma=0.1, kernel=rbf; total time=   0.0s\n",
      "[CV 1/4] END ....................C=1, gamma=0.1, kernel=poly; total time=   0.0s\n",
      "[CV 2/4] END ....................C=1, gamma=0.1, kernel=poly; total time=   0.0s\n",
      "[CV 3/4] END ....................C=1, gamma=0.1, kernel=poly; total time=   0.0s\n",
      "[CV 4/4] END ....................C=1, gamma=0.1, kernel=poly; total time=   0.0s\n",
      "[CV 1/4] END .................C=1, gamma=0.1, kernel=sigmoid; total time=   0.0s\n",
      "[CV 2/4] END .................C=1, gamma=0.1, kernel=sigmoid; total time=   0.0s\n",
      "[CV 3/4] END .................C=1, gamma=0.1, kernel=sigmoid; total time=   0.0s\n",
      "[CV 4/4] END .................C=1, gamma=0.1, kernel=sigmoid; total time=   0.0s\n",
      "[CV 1/4] END ....................C=1, gamma=0.01, kernel=rbf; total time=   0.0s\n",
      "[CV 2/4] END ....................C=1, gamma=0.01, kernel=rbf; total time=   0.0s\n",
      "[CV 3/4] END ....................C=1, gamma=0.01, kernel=rbf; total time=   0.0s\n",
      "[CV 4/4] END ....................C=1, gamma=0.01, kernel=rbf; total time=   0.0s\n",
      "[CV 1/4] END ...................C=1, gamma=0.01, kernel=poly; total time=   0.0s\n",
      "[CV 2/4] END ...................C=1, gamma=0.01, kernel=poly; total time=   0.0s\n",
      "[CV 3/4] END ...................C=1, gamma=0.01, kernel=poly; total time=   0.0s\n",
      "[CV 4/4] END ...................C=1, gamma=0.01, kernel=poly; total time=   0.0s\n",
      "[CV 1/4] END ................C=1, gamma=0.01, kernel=sigmoid; total time=   0.0s\n",
      "[CV 2/4] END ................C=1, gamma=0.01, kernel=sigmoid; total time=   0.0s\n",
      "[CV 3/4] END ................C=1, gamma=0.01, kernel=sigmoid; total time=   0.0s\n",
      "[CV 4/4] END ................C=1, gamma=0.01, kernel=sigmoid; total time=   0.0s\n",
      "[CV 1/4] END ...................C=1, gamma=0.001, kernel=rbf; total time=   0.0s\n",
      "[CV 2/4] END ...................C=1, gamma=0.001, kernel=rbf; total time=   0.0s\n",
      "[CV 3/4] END ...................C=1, gamma=0.001, kernel=rbf; total time=   0.0s\n",
      "[CV 4/4] END ...................C=1, gamma=0.001, kernel=rbf; total time=   0.0s\n",
      "[CV 1/4] END ..................C=1, gamma=0.001, kernel=poly; total time=   0.0s\n",
      "[CV 2/4] END ..................C=1, gamma=0.001, kernel=poly; total time=   0.0s\n",
      "[CV 3/4] END ..................C=1, gamma=0.001, kernel=poly; total time=   0.0s\n",
      "[CV 4/4] END ..................C=1, gamma=0.001, kernel=poly; total time=   0.0s\n",
      "[CV 1/4] END ...............C=1, gamma=0.001, kernel=sigmoid; total time=   0.0s\n",
      "[CV 2/4] END ...............C=1, gamma=0.001, kernel=sigmoid; total time=   0.0s\n",
      "[CV 3/4] END ...............C=1, gamma=0.001, kernel=sigmoid; total time=   0.0s\n",
      "[CV 4/4] END ...............C=1, gamma=0.001, kernel=sigmoid; total time=   0.0s\n",
      "[CV 1/4] END ......................C=10, gamma=1, kernel=rbf; total time=   0.0s\n",
      "[CV 2/4] END ......................C=10, gamma=1, kernel=rbf; total time=   0.0s\n",
      "[CV 3/4] END ......................C=10, gamma=1, kernel=rbf; total time=   0.0s\n",
      "[CV 4/4] END ......................C=10, gamma=1, kernel=rbf; total time=   0.0s\n",
      "[CV 1/4] END .....................C=10, gamma=1, kernel=poly; total time=   0.0s\n",
      "[CV 2/4] END .....................C=10, gamma=1, kernel=poly; total time=   0.0s\n",
      "[CV 3/4] END .....................C=10, gamma=1, kernel=poly; total time=   0.0s\n",
      "[CV 4/4] END .....................C=10, gamma=1, kernel=poly; total time=   0.0s\n",
      "[CV 1/4] END ..................C=10, gamma=1, kernel=sigmoid; total time=   0.0s\n",
      "[CV 2/4] END ..................C=10, gamma=1, kernel=sigmoid; total time=   0.0s\n",
      "[CV 3/4] END ..................C=10, gamma=1, kernel=sigmoid; total time=   0.0s\n",
      "[CV 4/4] END ..................C=10, gamma=1, kernel=sigmoid; total time=   0.0s\n",
      "[CV 1/4] END ....................C=10, gamma=0.1, kernel=rbf; total time=   0.0s\n",
      "[CV 2/4] END ....................C=10, gamma=0.1, kernel=rbf; total time=   0.0s\n",
      "[CV 3/4] END ....................C=10, gamma=0.1, kernel=rbf; total time=   0.0s\n",
      "[CV 4/4] END ....................C=10, gamma=0.1, kernel=rbf; total time=   0.0s\n",
      "[CV 1/4] END ...................C=10, gamma=0.1, kernel=poly; total time=   0.0s\n",
      "[CV 2/4] END ...................C=10, gamma=0.1, kernel=poly; total time=   0.0s\n",
      "[CV 3/4] END ...................C=10, gamma=0.1, kernel=poly; total time=   0.0s\n",
      "[CV 4/4] END ...................C=10, gamma=0.1, kernel=poly; total time=   0.0s\n",
      "[CV 1/4] END ................C=10, gamma=0.1, kernel=sigmoid; total time=   0.0s\n",
      "[CV 2/4] END ................C=10, gamma=0.1, kernel=sigmoid; total time=   0.0s\n",
      "[CV 3/4] END ................C=10, gamma=0.1, kernel=sigmoid; total time=   0.0s\n",
      "[CV 4/4] END ................C=10, gamma=0.1, kernel=sigmoid; total time=   0.0s\n",
      "[CV 1/4] END ...................C=10, gamma=0.01, kernel=rbf; total time=   0.0s\n",
      "[CV 2/4] END ...................C=10, gamma=0.01, kernel=rbf; total time=   0.0s\n",
      "[CV 3/4] END ...................C=10, gamma=0.01, kernel=rbf; total time=   0.0s\n",
      "[CV 4/4] END ...................C=10, gamma=0.01, kernel=rbf; total time=   0.0s\n",
      "[CV 1/4] END ..................C=10, gamma=0.01, kernel=poly; total time=   0.0s\n",
      "[CV 2/4] END ..................C=10, gamma=0.01, kernel=poly; total time=   0.0s\n",
      "[CV 3/4] END ..................C=10, gamma=0.01, kernel=poly; total time=   0.0s\n",
      "[CV 4/4] END ..................C=10, gamma=0.01, kernel=poly; total time=   0.0s\n",
      "[CV 1/4] END ...............C=10, gamma=0.01, kernel=sigmoid; total time=   0.0s\n",
      "[CV 2/4] END ...............C=10, gamma=0.01, kernel=sigmoid; total time=   0.0s\n",
      "[CV 3/4] END ...............C=10, gamma=0.01, kernel=sigmoid; total time=   0.0s\n",
      "[CV 4/4] END ...............C=10, gamma=0.01, kernel=sigmoid; total time=   0.0s\n",
      "[CV 1/4] END ..................C=10, gamma=0.001, kernel=rbf; total time=   0.0s\n",
      "[CV 2/4] END ..................C=10, gamma=0.001, kernel=rbf; total time=   0.0s\n",
      "[CV 3/4] END ..................C=10, gamma=0.001, kernel=rbf; total time=   0.0s\n",
      "[CV 4/4] END ..................C=10, gamma=0.001, kernel=rbf; total time=   0.0s\n",
      "[CV 1/4] END .................C=10, gamma=0.001, kernel=poly; total time=   0.0s\n",
      "[CV 2/4] END .................C=10, gamma=0.001, kernel=poly; total time=   0.0s\n",
      "[CV 3/4] END .................C=10, gamma=0.001, kernel=poly; total time=   0.0s\n",
      "[CV 4/4] END .................C=10, gamma=0.001, kernel=poly; total time=   0.0s\n",
      "[CV 1/4] END ..............C=10, gamma=0.001, kernel=sigmoid; total time=   0.0s\n",
      "[CV 2/4] END ..............C=10, gamma=0.001, kernel=sigmoid; total time=   0.0s\n",
      "[CV 3/4] END ..............C=10, gamma=0.001, kernel=sigmoid; total time=   0.0s\n",
      "[CV 4/4] END ..............C=10, gamma=0.001, kernel=sigmoid; total time=   0.0s\n",
      "[CV 1/4] END .....................C=100, gamma=1, kernel=rbf; total time=   0.0s\n",
      "[CV 2/4] END .....................C=100, gamma=1, kernel=rbf; total time=   0.0s\n",
      "[CV 3/4] END .....................C=100, gamma=1, kernel=rbf; total time=   0.0s\n",
      "[CV 4/4] END .....................C=100, gamma=1, kernel=rbf; total time=   0.0s\n",
      "[CV 1/4] END ....................C=100, gamma=1, kernel=poly; total time=   0.0s\n",
      "[CV 2/4] END ....................C=100, gamma=1, kernel=poly; total time=   0.0s\n",
      "[CV 3/4] END ....................C=100, gamma=1, kernel=poly; total time=   0.0s\n",
      "[CV 4/4] END ....................C=100, gamma=1, kernel=poly; total time=   0.0s\n",
      "[CV 1/4] END .................C=100, gamma=1, kernel=sigmoid; total time=   0.0s\n",
      "[CV 2/4] END .................C=100, gamma=1, kernel=sigmoid; total time=   0.0s\n",
      "[CV 3/4] END .................C=100, gamma=1, kernel=sigmoid; total time=   0.0s\n",
      "[CV 4/4] END .................C=100, gamma=1, kernel=sigmoid; total time=   0.0s\n",
      "[CV 1/4] END ...................C=100, gamma=0.1, kernel=rbf; total time=   0.0s\n",
      "[CV 2/4] END ...................C=100, gamma=0.1, kernel=rbf; total time=   0.0s\n",
      "[CV 3/4] END ...................C=100, gamma=0.1, kernel=rbf; total time=   0.0s\n",
      "[CV 4/4] END ...................C=100, gamma=0.1, kernel=rbf; total time=   0.0s\n",
      "[CV 1/4] END ..................C=100, gamma=0.1, kernel=poly; total time=   0.0s\n",
      "[CV 2/4] END ..................C=100, gamma=0.1, kernel=poly; total time=   0.0s\n",
      "[CV 3/4] END ..................C=100, gamma=0.1, kernel=poly; total time=   0.0s\n",
      "[CV 4/4] END ..................C=100, gamma=0.1, kernel=poly; total time=   0.0s\n",
      "[CV 1/4] END ...............C=100, gamma=0.1, kernel=sigmoid; total time=   0.0s\n",
      "[CV 2/4] END ...............C=100, gamma=0.1, kernel=sigmoid; total time=   0.0s\n",
      "[CV 3/4] END ...............C=100, gamma=0.1, kernel=sigmoid; total time=   0.0s\n",
      "[CV 4/4] END ...............C=100, gamma=0.1, kernel=sigmoid; total time=   0.0s\n",
      "[CV 1/4] END ..................C=100, gamma=0.01, kernel=rbf; total time=   0.0s\n",
      "[CV 2/4] END ..................C=100, gamma=0.01, kernel=rbf; total time=   0.0s\n",
      "[CV 3/4] END ..................C=100, gamma=0.01, kernel=rbf; total time=   0.0s\n",
      "[CV 4/4] END ..................C=100, gamma=0.01, kernel=rbf; total time=   0.0s\n",
      "[CV 1/4] END .................C=100, gamma=0.01, kernel=poly; total time=   0.0s\n",
      "[CV 2/4] END .................C=100, gamma=0.01, kernel=poly; total time=   0.0s\n",
      "[CV 3/4] END .................C=100, gamma=0.01, kernel=poly; total time=   0.0s\n",
      "[CV 4/4] END .................C=100, gamma=0.01, kernel=poly; total time=   0.0s\n",
      "[CV 1/4] END ..............C=100, gamma=0.01, kernel=sigmoid; total time=   0.0s\n",
      "[CV 2/4] END ..............C=100, gamma=0.01, kernel=sigmoid; total time=   0.0s\n",
      "[CV 3/4] END ..............C=100, gamma=0.01, kernel=sigmoid; total time=   0.0s\n",
      "[CV 4/4] END ..............C=100, gamma=0.01, kernel=sigmoid; total time=   0.0s\n",
      "[CV 1/4] END .................C=100, gamma=0.001, kernel=rbf; total time=   0.0s\n",
      "[CV 2/4] END .................C=100, gamma=0.001, kernel=rbf; total time=   0.0s\n",
      "[CV 3/4] END .................C=100, gamma=0.001, kernel=rbf; total time=   0.0s\n",
      "[CV 4/4] END .................C=100, gamma=0.001, kernel=rbf; total time=   0.0s\n",
      "[CV 1/4] END ................C=100, gamma=0.001, kernel=poly; total time=   0.0s\n",
      "[CV 2/4] END ................C=100, gamma=0.001, kernel=poly; total time=   0.0s\n",
      "[CV 3/4] END ................C=100, gamma=0.001, kernel=poly; total time=   0.0s\n",
      "[CV 4/4] END ................C=100, gamma=0.001, kernel=poly; total time=   0.0s\n",
      "[CV 1/4] END .............C=100, gamma=0.001, kernel=sigmoid; total time=   0.0s\n",
      "[CV 2/4] END .............C=100, gamma=0.001, kernel=sigmoid; total time=   0.0s\n",
      "[CV 3/4] END .............C=100, gamma=0.001, kernel=sigmoid; total time=   0.0s\n",
      "[CV 4/4] END .............C=100, gamma=0.001, kernel=sigmoid; total time=   0.0s\n"
     ]
    },
    {
     "data": {
      "text/plain": [
       "GridSearchCV(cv=4, estimator=SVC(),\n",
       "             param_grid={'C': [0.1, 1, 10, 100], 'gamma': [1, 0.1, 0.01, 0.001],\n",
       "                         'kernel': ['rbf', 'poly', 'sigmoid']},\n",
       "             verbose=3)"
      ]
     },
     "execution_count": 225,
     "metadata": {},
     "output_type": "execute_result"
    }
   ],
   "source": [
    "# defining parameter range\n",
    "from sklearn.svm import SVC\n",
    "svm = SVC()\n",
    "param_grid = {'C': [0.1,1, 10, 100], 'gamma': [1,0.1,0.01,0.001],'kernel': ['rbf', 'poly', 'sigmoid']}\n",
    " \n",
    "grid2 = GridSearchCV(svm, param_grid,cv=4, refit = True, verbose = 3)\n",
    " \n",
    "# fitting the model for grid search\n",
    "grid2.fit(x_train, y_train)"
   ]
  },
  {
   "cell_type": "code",
   "execution_count": 226,
   "id": "8436b1c4",
   "metadata": {},
   "outputs": [
    {
     "data": {
      "text/plain": [
       "SVC(C=100, gamma=0.1)"
      ]
     },
     "execution_count": 226,
     "metadata": {},
     "output_type": "execute_result"
    }
   ],
   "source": [
    "grid2.best_estimator_"
   ]
  },
  {
   "cell_type": "code",
   "execution_count": 227,
   "id": "74c2d118",
   "metadata": {},
   "outputs": [
    {
     "data": {
      "text/plain": [
       "0.8079658605974396"
      ]
     },
     "execution_count": 227,
     "metadata": {},
     "output_type": "execute_result"
    }
   ],
   "source": [
    "grid2.best_score_"
   ]
  },
  {
   "cell_type": "code",
   "execution_count": 228,
   "id": "7cfbfe93",
   "metadata": {},
   "outputs": [
    {
     "name": "stdout",
     "output_type": "stream",
     "text": [
      "Test Accuracy of SVM Algorithm: 81.58%\n"
     ]
    },
    {
     "data": {
      "text/plain": [
       "array([[14,  3],\n",
       "       [ 4, 17]])"
      ]
     },
     "execution_count": 228,
     "metadata": {},
     "output_type": "execute_result"
    }
   ],
   "source": [
    "from sklearn.svm import SVC\n",
    "svm = SVC(C=100, gamma = 1, kernel = 'rbf',probability=True)\n",
    "\n",
    "\n",
    "svm.fit(x_train, y_train)\n",
    "acc = svm.score(x_test,y_test)*100\n",
    "accuracies['SVM'] = acc\n",
    "svm_predictions = svm.predict(x_test)\n",
    "print(\"Test Accuracy of SVM Algorithm: {:.2f}%\".format(acc))\n",
    "confusion_matrix(y_test, svm_predictions)"
   ]
  },
  {
   "cell_type": "code",
   "execution_count": 229,
   "id": "270e9798",
   "metadata": {},
   "outputs": [
    {
     "name": "stdout",
     "output_type": "stream",
     "text": [
      "Accuracy of Naive Bayes: 78.95%\n"
     ]
    },
    {
     "data": {
      "text/plain": [
       "array([[12,  5],\n",
       "       [ 3, 18]])"
      ]
     },
     "execution_count": 229,
     "metadata": {},
     "output_type": "execute_result"
    }
   ],
   "source": [
    "#naive bayes\n",
    "from sklearn.naive_bayes import GaussianNB\n",
    "nb = GaussianNB()\n",
    "nb.fit(x_train, y_train)\n",
    "acc = nb.score(x_test,y_test)*100\n",
    "accuracies['Naive Bayes'] = acc\n",
    "nb_predictions = nb.predict(x_test)\n",
    "print(\"Accuracy of Naive Bayes: {:.2f}%\".format(acc))\n",
    "confusion_matrix(y_test, nb_predictions)\n",
    "#no hyper paramter tuning for naive bayes"
   ]
  },
  {
   "cell_type": "code",
   "execution_count": 230,
   "id": "604a618c",
   "metadata": {},
   "outputs": [
    {
     "name": "stdout",
     "output_type": "stream",
     "text": [
      "              precision    recall  f1-score   support\n",
      "\n",
      "           0       0.80      0.71      0.75        17\n",
      "           1       0.78      0.86      0.82        21\n",
      "\n",
      "    accuracy                           0.79        38\n",
      "   macro avg       0.79      0.78      0.78        38\n",
      "weighted avg       0.79      0.79      0.79        38\n",
      "\n"
     ]
    }
   ],
   "source": [
    "print(classification_report(y_test, nb_predictions))"
   ]
  },
  {
   "cell_type": "code",
   "execution_count": 232,
   "id": "a038f8b2",
   "metadata": {},
   "outputs": [
    {
     "name": "stdout",
     "output_type": "stream",
     "text": [
      "Accuracy of Gradient Boosting: 84.21%\n"
     ]
    },
    {
     "data": {
      "text/plain": [
       "array([[15,  2],\n",
       "       [ 4, 17]])"
      ]
     },
     "execution_count": 232,
     "metadata": {},
     "output_type": "execute_result"
    }
   ],
   "source": [
    "#gradient boost\n",
    "from sklearn import ensemble\n",
    "gb = ensemble.GradientBoostingClassifier()\n",
    "gb.fit(x_train, y_train)\n",
    "acc = gb.score(x_test,y_test)*100\n",
    "gb_predictions = gb.predict(x_test)\n",
    "print(\"Accuracy of Gradient Boosting: {:.2f}%\".format(acc))\n",
    "confusion_matrix(y_test, gb_predictions)"
   ]
  },
  {
   "cell_type": "code",
   "execution_count": 233,
   "id": "34f99eda",
   "metadata": {},
   "outputs": [
    {
     "name": "stdout",
     "output_type": "stream",
     "text": [
      "              precision    recall  f1-score   support\n",
      "\n",
      "           0       0.79      0.88      0.83        17\n",
      "           1       0.89      0.81      0.85        21\n",
      "\n",
      "    accuracy                           0.84        38\n",
      "   macro avg       0.84      0.85      0.84        38\n",
      "weighted avg       0.85      0.84      0.84        38\n",
      "\n"
     ]
    }
   ],
   "source": [
    "print(classification_report(y_test, gb_predictions))"
   ]
  },
  {
   "cell_type": "code",
   "execution_count": 251,
   "id": "0468a4f9",
   "metadata": {},
   "outputs": [
    {
     "name": "stdout",
     "output_type": "stream",
     "text": [
      "Fitting 6 folds for each of 100 candidates, totalling 600 fits\n",
      "[CV 1/6] END learning_rate=0.01, max_depth=1, n_estimators=5; total time=   0.0s\n",
      "[CV 2/6] END learning_rate=0.01, max_depth=1, n_estimators=5; total time=   0.0s\n",
      "[CV 3/6] END learning_rate=0.01, max_depth=1, n_estimators=5; total time=   0.0s\n",
      "[CV 4/6] END learning_rate=0.01, max_depth=1, n_estimators=5; total time=   0.0s\n",
      "[CV 5/6] END learning_rate=0.01, max_depth=1, n_estimators=5; total time=   0.0s\n",
      "[CV 6/6] END learning_rate=0.01, max_depth=1, n_estimators=5; total time=   0.0s\n",
      "[CV 1/6] END learning_rate=0.01, max_depth=1, n_estimators=50; total time=   0.0s\n",
      "[CV 2/6] END learning_rate=0.01, max_depth=1, n_estimators=50; total time=   0.0s\n",
      "[CV 3/6] END learning_rate=0.01, max_depth=1, n_estimators=50; total time=   0.0s\n",
      "[CV 4/6] END learning_rate=0.01, max_depth=1, n_estimators=50; total time=   0.0s\n",
      "[CV 5/6] END learning_rate=0.01, max_depth=1, n_estimators=50; total time=   0.0s\n",
      "[CV 6/6] END learning_rate=0.01, max_depth=1, n_estimators=50; total time=   0.0s\n",
      "[CV 1/6] END learning_rate=0.01, max_depth=1, n_estimators=250; total time=   0.1s\n",
      "[CV 2/6] END learning_rate=0.01, max_depth=1, n_estimators=250; total time=   0.1s\n",
      "[CV 3/6] END learning_rate=0.01, max_depth=1, n_estimators=250; total time=   0.1s\n",
      "[CV 4/6] END learning_rate=0.01, max_depth=1, n_estimators=250; total time=   0.1s\n",
      "[CV 5/6] END learning_rate=0.01, max_depth=1, n_estimators=250; total time=   0.1s\n",
      "[CV 6/6] END learning_rate=0.01, max_depth=1, n_estimators=250; total time=   0.1s\n",
      "[CV 1/6] END learning_rate=0.01, max_depth=1, n_estimators=500; total time=   0.2s\n",
      "[CV 2/6] END learning_rate=0.01, max_depth=1, n_estimators=500; total time=   0.2s\n",
      "[CV 3/6] END learning_rate=0.01, max_depth=1, n_estimators=500; total time=   0.2s\n",
      "[CV 4/6] END learning_rate=0.01, max_depth=1, n_estimators=500; total time=   0.2s\n",
      "[CV 5/6] END learning_rate=0.01, max_depth=1, n_estimators=500; total time=   0.2s\n",
      "[CV 6/6] END learning_rate=0.01, max_depth=1, n_estimators=500; total time=   0.2s\n",
      "[CV 1/6] END learning_rate=0.01, max_depth=3, n_estimators=5; total time=   0.0s\n",
      "[CV 2/6] END learning_rate=0.01, max_depth=3, n_estimators=5; total time=   0.0s\n",
      "[CV 3/6] END learning_rate=0.01, max_depth=3, n_estimators=5; total time=   0.0s\n",
      "[CV 4/6] END learning_rate=0.01, max_depth=3, n_estimators=5; total time=   0.0s\n",
      "[CV 5/6] END learning_rate=0.01, max_depth=3, n_estimators=5; total time=   0.0s\n",
      "[CV 6/6] END learning_rate=0.01, max_depth=3, n_estimators=5; total time=   0.0s\n",
      "[CV 1/6] END learning_rate=0.01, max_depth=3, n_estimators=50; total time=   0.0s\n",
      "[CV 2/6] END learning_rate=0.01, max_depth=3, n_estimators=50; total time=   0.0s\n",
      "[CV 3/6] END learning_rate=0.01, max_depth=3, n_estimators=50; total time=   0.0s\n",
      "[CV 4/6] END learning_rate=0.01, max_depth=3, n_estimators=50; total time=   0.0s\n",
      "[CV 5/6] END learning_rate=0.01, max_depth=3, n_estimators=50; total time=   0.0s\n",
      "[CV 6/6] END learning_rate=0.01, max_depth=3, n_estimators=50; total time=   0.0s\n",
      "[CV 1/6] END learning_rate=0.01, max_depth=3, n_estimators=250; total time=   0.2s\n",
      "[CV 2/6] END learning_rate=0.01, max_depth=3, n_estimators=250; total time=   0.2s\n",
      "[CV 3/6] END learning_rate=0.01, max_depth=3, n_estimators=250; total time=   0.2s\n",
      "[CV 4/6] END learning_rate=0.01, max_depth=3, n_estimators=250; total time=   0.2s\n",
      "[CV 5/6] END learning_rate=0.01, max_depth=3, n_estimators=250; total time=   0.2s\n",
      "[CV 6/6] END learning_rate=0.01, max_depth=3, n_estimators=250; total time=   0.1s\n",
      "[CV 1/6] END learning_rate=0.01, max_depth=3, n_estimators=500; total time=   0.3s\n",
      "[CV 2/6] END learning_rate=0.01, max_depth=3, n_estimators=500; total time=   0.3s\n",
      "[CV 3/6] END learning_rate=0.01, max_depth=3, n_estimators=500; total time=   0.3s\n",
      "[CV 4/6] END learning_rate=0.01, max_depth=3, n_estimators=500; total time=   0.3s\n",
      "[CV 5/6] END learning_rate=0.01, max_depth=3, n_estimators=500; total time=   0.3s\n",
      "[CV 6/6] END learning_rate=0.01, max_depth=3, n_estimators=500; total time=   0.3s\n",
      "[CV 1/6] END learning_rate=0.01, max_depth=5, n_estimators=5; total time=   0.0s\n",
      "[CV 2/6] END learning_rate=0.01, max_depth=5, n_estimators=5; total time=   0.0s\n",
      "[CV 3/6] END learning_rate=0.01, max_depth=5, n_estimators=5; total time=   0.0s\n",
      "[CV 4/6] END learning_rate=0.01, max_depth=5, n_estimators=5; total time=   0.0s\n",
      "[CV 5/6] END learning_rate=0.01, max_depth=5, n_estimators=5; total time=   0.0s\n",
      "[CV 6/6] END learning_rate=0.01, max_depth=5, n_estimators=5; total time=   0.0s\n",
      "[CV 1/6] END learning_rate=0.01, max_depth=5, n_estimators=50; total time=   0.0s\n",
      "[CV 2/6] END learning_rate=0.01, max_depth=5, n_estimators=50; total time=   0.0s\n",
      "[CV 3/6] END learning_rate=0.01, max_depth=5, n_estimators=50; total time=   0.0s\n",
      "[CV 4/6] END learning_rate=0.01, max_depth=5, n_estimators=50; total time=   0.0s\n",
      "[CV 5/6] END learning_rate=0.01, max_depth=5, n_estimators=50; total time=   0.0s\n",
      "[CV 6/6] END learning_rate=0.01, max_depth=5, n_estimators=50; total time=   0.0s\n",
      "[CV 1/6] END learning_rate=0.01, max_depth=5, n_estimators=250; total time=   0.3s\n",
      "[CV 2/6] END learning_rate=0.01, max_depth=5, n_estimators=250; total time=   0.3s\n",
      "[CV 3/6] END learning_rate=0.01, max_depth=5, n_estimators=250; total time=   0.3s\n",
      "[CV 4/6] END learning_rate=0.01, max_depth=5, n_estimators=250; total time=   0.3s\n",
      "[CV 5/6] END learning_rate=0.01, max_depth=5, n_estimators=250; total time=   0.3s\n",
      "[CV 6/6] END learning_rate=0.01, max_depth=5, n_estimators=250; total time=   0.2s\n",
      "[CV 1/6] END learning_rate=0.01, max_depth=5, n_estimators=500; total time=   0.5s\n",
      "[CV 2/6] END learning_rate=0.01, max_depth=5, n_estimators=500; total time=   0.5s\n",
      "[CV 3/6] END learning_rate=0.01, max_depth=5, n_estimators=500; total time=   0.5s\n",
      "[CV 4/6] END learning_rate=0.01, max_depth=5, n_estimators=500; total time=   0.5s\n",
      "[CV 5/6] END learning_rate=0.01, max_depth=5, n_estimators=500; total time=   0.5s\n",
      "[CV 6/6] END learning_rate=0.01, max_depth=5, n_estimators=500; total time=   0.5s\n",
      "[CV 1/6] END learning_rate=0.01, max_depth=7, n_estimators=5; total time=   0.0s\n",
      "[CV 2/6] END learning_rate=0.01, max_depth=7, n_estimators=5; total time=   0.0s\n",
      "[CV 3/6] END learning_rate=0.01, max_depth=7, n_estimators=5; total time=   0.0s\n",
      "[CV 4/6] END learning_rate=0.01, max_depth=7, n_estimators=5; total time=   0.0s\n",
      "[CV 5/6] END learning_rate=0.01, max_depth=7, n_estimators=5; total time=   0.0s\n",
      "[CV 6/6] END learning_rate=0.01, max_depth=7, n_estimators=5; total time=   0.0s\n",
      "[CV 1/6] END learning_rate=0.01, max_depth=7, n_estimators=50; total time=   0.1s\n",
      "[CV 2/6] END learning_rate=0.01, max_depth=7, n_estimators=50; total time=   0.1s\n",
      "[CV 3/6] END learning_rate=0.01, max_depth=7, n_estimators=50; total time=   0.1s\n",
      "[CV 4/6] END learning_rate=0.01, max_depth=7, n_estimators=50; total time=   0.1s\n",
      "[CV 5/6] END learning_rate=0.01, max_depth=7, n_estimators=50; total time=   0.1s\n",
      "[CV 6/6] END learning_rate=0.01, max_depth=7, n_estimators=50; total time=   0.1s\n",
      "[CV 1/6] END learning_rate=0.01, max_depth=7, n_estimators=250; total time=   0.3s\n",
      "[CV 2/6] END learning_rate=0.01, max_depth=7, n_estimators=250; total time=   0.3s\n",
      "[CV 3/6] END learning_rate=0.01, max_depth=7, n_estimators=250; total time=   0.4s\n",
      "[CV 4/6] END learning_rate=0.01, max_depth=7, n_estimators=250; total time=   0.3s\n",
      "[CV 5/6] END learning_rate=0.01, max_depth=7, n_estimators=250; total time=   0.3s\n",
      "[CV 6/6] END learning_rate=0.01, max_depth=7, n_estimators=250; total time=   0.3s\n",
      "[CV 1/6] END learning_rate=0.01, max_depth=7, n_estimators=500; total time=   0.6s\n",
      "[CV 2/6] END learning_rate=0.01, max_depth=7, n_estimators=500; total time=   0.5s\n",
      "[CV 3/6] END learning_rate=0.01, max_depth=7, n_estimators=500; total time=   0.8s\n",
      "[CV 4/6] END learning_rate=0.01, max_depth=7, n_estimators=500; total time=   0.5s\n",
      "[CV 5/6] END learning_rate=0.01, max_depth=7, n_estimators=500; total time=   0.5s\n",
      "[CV 6/6] END learning_rate=0.01, max_depth=7, n_estimators=500; total time=   0.5s\n",
      "[CV 1/6] END learning_rate=0.01, max_depth=9, n_estimators=5; total time=   0.0s\n",
      "[CV 2/6] END learning_rate=0.01, max_depth=9, n_estimators=5; total time=   0.0s\n",
      "[CV 3/6] END learning_rate=0.01, max_depth=9, n_estimators=5; total time=   0.0s\n",
      "[CV 4/6] END learning_rate=0.01, max_depth=9, n_estimators=5; total time=   0.0s\n",
      "[CV 5/6] END learning_rate=0.01, max_depth=9, n_estimators=5; total time=   0.0s\n",
      "[CV 6/6] END learning_rate=0.01, max_depth=9, n_estimators=5; total time=   0.0s\n",
      "[CV 1/6] END learning_rate=0.01, max_depth=9, n_estimators=50; total time=   0.1s\n",
      "[CV 2/6] END learning_rate=0.01, max_depth=9, n_estimators=50; total time=   0.1s\n",
      "[CV 3/6] END learning_rate=0.01, max_depth=9, n_estimators=50; total time=   0.1s\n",
      "[CV 4/6] END learning_rate=0.01, max_depth=9, n_estimators=50; total time=   0.1s\n",
      "[CV 5/6] END learning_rate=0.01, max_depth=9, n_estimators=50; total time=   0.1s\n",
      "[CV 6/6] END learning_rate=0.01, max_depth=9, n_estimators=50; total time=   0.1s\n",
      "[CV 1/6] END learning_rate=0.01, max_depth=9, n_estimators=250; total time=   0.3s\n",
      "[CV 2/6] END learning_rate=0.01, max_depth=9, n_estimators=250; total time=   0.3s\n",
      "[CV 3/6] END learning_rate=0.01, max_depth=9, n_estimators=250; total time=   0.3s\n",
      "[CV 4/6] END learning_rate=0.01, max_depth=9, n_estimators=250; total time=   0.3s\n",
      "[CV 5/6] END learning_rate=0.01, max_depth=9, n_estimators=250; total time=   0.3s\n",
      "[CV 6/6] END learning_rate=0.01, max_depth=9, n_estimators=250; total time=   0.3s\n",
      "[CV 1/6] END learning_rate=0.01, max_depth=9, n_estimators=500; total time=   0.6s\n",
      "[CV 2/6] END learning_rate=0.01, max_depth=9, n_estimators=500; total time=   0.6s\n",
      "[CV 3/6] END learning_rate=0.01, max_depth=9, n_estimators=500; total time=   0.7s\n",
      "[CV 4/6] END learning_rate=0.01, max_depth=9, n_estimators=500; total time=   0.6s\n",
      "[CV 5/6] END learning_rate=0.01, max_depth=9, n_estimators=500; total time=   0.6s\n",
      "[CV 6/6] END learning_rate=0.01, max_depth=9, n_estimators=500; total time=   0.5s\n",
      "[CV 1/6] END .learning_rate=0.1, max_depth=1, n_estimators=5; total time=   0.0s\n",
      "[CV 2/6] END .learning_rate=0.1, max_depth=1, n_estimators=5; total time=   0.0s\n",
      "[CV 3/6] END .learning_rate=0.1, max_depth=1, n_estimators=5; total time=   0.0s\n",
      "[CV 4/6] END .learning_rate=0.1, max_depth=1, n_estimators=5; total time=   0.0s\n",
      "[CV 5/6] END .learning_rate=0.1, max_depth=1, n_estimators=5; total time=   0.0s\n",
      "[CV 6/6] END .learning_rate=0.1, max_depth=1, n_estimators=5; total time=   0.0s\n",
      "[CV 1/6] END learning_rate=0.1, max_depth=1, n_estimators=50; total time=   0.0s\n",
      "[CV 2/6] END learning_rate=0.1, max_depth=1, n_estimators=50; total time=   0.0s\n",
      "[CV 3/6] END learning_rate=0.1, max_depth=1, n_estimators=50; total time=   0.0s\n",
      "[CV 4/6] END learning_rate=0.1, max_depth=1, n_estimators=50; total time=   0.0s\n",
      "[CV 5/6] END learning_rate=0.1, max_depth=1, n_estimators=50; total time=   0.0s\n",
      "[CV 6/6] END learning_rate=0.1, max_depth=1, n_estimators=50; total time=   0.0s\n",
      "[CV 1/6] END learning_rate=0.1, max_depth=1, n_estimators=250; total time=   0.1s\n",
      "[CV 2/6] END learning_rate=0.1, max_depth=1, n_estimators=250; total time=   0.1s\n",
      "[CV 3/6] END learning_rate=0.1, max_depth=1, n_estimators=250; total time=   0.1s\n",
      "[CV 4/6] END learning_rate=0.1, max_depth=1, n_estimators=250; total time=   0.1s\n",
      "[CV 5/6] END learning_rate=0.1, max_depth=1, n_estimators=250; total time=   0.1s\n",
      "[CV 6/6] END learning_rate=0.1, max_depth=1, n_estimators=250; total time=   0.1s\n",
      "[CV 1/6] END learning_rate=0.1, max_depth=1, n_estimators=500; total time=   0.2s\n",
      "[CV 2/6] END learning_rate=0.1, max_depth=1, n_estimators=500; total time=   0.2s\n",
      "[CV 3/6] END learning_rate=0.1, max_depth=1, n_estimators=500; total time=   0.2s\n",
      "[CV 4/6] END learning_rate=0.1, max_depth=1, n_estimators=500; total time=   0.2s\n",
      "[CV 5/6] END learning_rate=0.1, max_depth=1, n_estimators=500; total time=   0.2s\n",
      "[CV 6/6] END learning_rate=0.1, max_depth=1, n_estimators=500; total time=   0.2s\n",
      "[CV 1/6] END .learning_rate=0.1, max_depth=3, n_estimators=5; total time=   0.0s\n",
      "[CV 2/6] END .learning_rate=0.1, max_depth=3, n_estimators=5; total time=   0.0s\n",
      "[CV 3/6] END .learning_rate=0.1, max_depth=3, n_estimators=5; total time=   0.0s\n",
      "[CV 4/6] END .learning_rate=0.1, max_depth=3, n_estimators=5; total time=   0.0s\n",
      "[CV 5/6] END .learning_rate=0.1, max_depth=3, n_estimators=5; total time=   0.0s\n",
      "[CV 6/6] END .learning_rate=0.1, max_depth=3, n_estimators=5; total time=   0.0s\n",
      "[CV 1/6] END learning_rate=0.1, max_depth=3, n_estimators=50; total time=   0.0s\n",
      "[CV 2/6] END learning_rate=0.1, max_depth=3, n_estimators=50; total time=   0.0s\n",
      "[CV 3/6] END learning_rate=0.1, max_depth=3, n_estimators=50; total time=   0.0s\n",
      "[CV 4/6] END learning_rate=0.1, max_depth=3, n_estimators=50; total time=   0.0s\n",
      "[CV 5/6] END learning_rate=0.1, max_depth=3, n_estimators=50; total time=   0.0s\n",
      "[CV 6/6] END learning_rate=0.1, max_depth=3, n_estimators=50; total time=   0.0s\n",
      "[CV 1/6] END learning_rate=0.1, max_depth=3, n_estimators=250; total time=   0.2s\n",
      "[CV 2/6] END learning_rate=0.1, max_depth=3, n_estimators=250; total time=   0.2s\n",
      "[CV 3/6] END learning_rate=0.1, max_depth=3, n_estimators=250; total time=   0.2s\n",
      "[CV 4/6] END learning_rate=0.1, max_depth=3, n_estimators=250; total time=   0.2s\n",
      "[CV 5/6] END learning_rate=0.1, max_depth=3, n_estimators=250; total time=   0.2s\n",
      "[CV 6/6] END learning_rate=0.1, max_depth=3, n_estimators=250; total time=   0.2s\n",
      "[CV 1/6] END learning_rate=0.1, max_depth=3, n_estimators=500; total time=   0.3s\n",
      "[CV 2/6] END learning_rate=0.1, max_depth=3, n_estimators=500; total time=   0.3s\n",
      "[CV 3/6] END learning_rate=0.1, max_depth=3, n_estimators=500; total time=   0.3s\n",
      "[CV 4/6] END learning_rate=0.1, max_depth=3, n_estimators=500; total time=   0.3s\n",
      "[CV 5/6] END learning_rate=0.1, max_depth=3, n_estimators=500; total time=   0.3s\n",
      "[CV 6/6] END learning_rate=0.1, max_depth=3, n_estimators=500; total time=   0.3s\n",
      "[CV 1/6] END .learning_rate=0.1, max_depth=5, n_estimators=5; total time=   0.0s\n",
      "[CV 2/6] END .learning_rate=0.1, max_depth=5, n_estimators=5; total time=   0.0s\n",
      "[CV 3/6] END .learning_rate=0.1, max_depth=5, n_estimators=5; total time=   0.0s\n",
      "[CV 4/6] END .learning_rate=0.1, max_depth=5, n_estimators=5; total time=   0.0s\n",
      "[CV 5/6] END .learning_rate=0.1, max_depth=5, n_estimators=5; total time=   0.0s\n",
      "[CV 6/6] END .learning_rate=0.1, max_depth=5, n_estimators=5; total time=   0.0s\n",
      "[CV 1/6] END learning_rate=0.1, max_depth=5, n_estimators=50; total time=   0.1s\n",
      "[CV 2/6] END learning_rate=0.1, max_depth=5, n_estimators=50; total time=   0.1s\n",
      "[CV 3/6] END learning_rate=0.1, max_depth=5, n_estimators=50; total time=   0.1s\n",
      "[CV 4/6] END learning_rate=0.1, max_depth=5, n_estimators=50; total time=   0.1s\n",
      "[CV 5/6] END learning_rate=0.1, max_depth=5, n_estimators=50; total time=   0.1s\n",
      "[CV 6/6] END learning_rate=0.1, max_depth=5, n_estimators=50; total time=   0.0s\n",
      "[CV 1/6] END learning_rate=0.1, max_depth=5, n_estimators=250; total time=   0.3s\n",
      "[CV 2/6] END learning_rate=0.1, max_depth=5, n_estimators=250; total time=   0.3s\n",
      "[CV 3/6] END learning_rate=0.1, max_depth=5, n_estimators=250; total time=   0.3s\n",
      "[CV 4/6] END learning_rate=0.1, max_depth=5, n_estimators=250; total time=   0.3s\n",
      "[CV 5/6] END learning_rate=0.1, max_depth=5, n_estimators=250; total time=   0.3s\n",
      "[CV 6/6] END learning_rate=0.1, max_depth=5, n_estimators=250; total time=   0.2s\n",
      "[CV 1/6] END learning_rate=0.1, max_depth=5, n_estimators=500; total time=   0.5s\n",
      "[CV 2/6] END learning_rate=0.1, max_depth=5, n_estimators=500; total time=   0.5s\n",
      "[CV 3/6] END learning_rate=0.1, max_depth=5, n_estimators=500; total time=   0.5s\n",
      "[CV 4/6] END learning_rate=0.1, max_depth=5, n_estimators=500; total time=   0.5s\n",
      "[CV 5/6] END learning_rate=0.1, max_depth=5, n_estimators=500; total time=   0.5s\n",
      "[CV 6/6] END learning_rate=0.1, max_depth=5, n_estimators=500; total time=   0.4s\n",
      "[CV 1/6] END .learning_rate=0.1, max_depth=7, n_estimators=5; total time=   0.0s\n",
      "[CV 2/6] END .learning_rate=0.1, max_depth=7, n_estimators=5; total time=   0.0s\n",
      "[CV 3/6] END .learning_rate=0.1, max_depth=7, n_estimators=5; total time=   0.0s\n",
      "[CV 4/6] END .learning_rate=0.1, max_depth=7, n_estimators=5; total time=   0.0s\n",
      "[CV 5/6] END .learning_rate=0.1, max_depth=7, n_estimators=5; total time=   0.0s\n",
      "[CV 6/6] END .learning_rate=0.1, max_depth=7, n_estimators=5; total time=   0.0s\n",
      "[CV 1/6] END learning_rate=0.1, max_depth=7, n_estimators=50; total time=   0.1s\n",
      "[CV 2/6] END learning_rate=0.1, max_depth=7, n_estimators=50; total time=   0.1s\n",
      "[CV 3/6] END learning_rate=0.1, max_depth=7, n_estimators=50; total time=   0.1s\n",
      "[CV 4/6] END learning_rate=0.1, max_depth=7, n_estimators=50; total time=   0.1s\n",
      "[CV 5/6] END learning_rate=0.1, max_depth=7, n_estimators=50; total time=   0.1s\n",
      "[CV 6/6] END learning_rate=0.1, max_depth=7, n_estimators=50; total time=   0.1s\n",
      "[CV 1/6] END learning_rate=0.1, max_depth=7, n_estimators=250; total time=   0.3s\n",
      "[CV 2/6] END learning_rate=0.1, max_depth=7, n_estimators=250; total time=   0.3s\n",
      "[CV 3/6] END learning_rate=0.1, max_depth=7, n_estimators=250; total time=   0.4s\n",
      "[CV 4/6] END learning_rate=0.1, max_depth=7, n_estimators=250; total time=   0.3s\n",
      "[CV 5/6] END learning_rate=0.1, max_depth=7, n_estimators=250; total time=   0.3s\n",
      "[CV 6/6] END learning_rate=0.1, max_depth=7, n_estimators=250; total time=   0.2s\n",
      "[CV 1/6] END learning_rate=0.1, max_depth=7, n_estimators=500; total time=   0.6s\n",
      "[CV 2/6] END learning_rate=0.1, max_depth=7, n_estimators=500; total time=   0.5s\n",
      "[CV 3/6] END learning_rate=0.1, max_depth=7, n_estimators=500; total time=   0.7s\n",
      "[CV 4/6] END learning_rate=0.1, max_depth=7, n_estimators=500; total time=   0.5s\n",
      "[CV 5/6] END learning_rate=0.1, max_depth=7, n_estimators=500; total time=   0.5s\n",
      "[CV 6/6] END learning_rate=0.1, max_depth=7, n_estimators=500; total time=   0.5s\n",
      "[CV 1/6] END .learning_rate=0.1, max_depth=9, n_estimators=5; total time=   0.0s\n",
      "[CV 2/6] END .learning_rate=0.1, max_depth=9, n_estimators=5; total time=   0.0s\n",
      "[CV 3/6] END .learning_rate=0.1, max_depth=9, n_estimators=5; total time=   0.0s\n",
      "[CV 4/6] END .learning_rate=0.1, max_depth=9, n_estimators=5; total time=   0.0s\n",
      "[CV 5/6] END .learning_rate=0.1, max_depth=9, n_estimators=5; total time=   0.0s\n",
      "[CV 6/6] END .learning_rate=0.1, max_depth=9, n_estimators=5; total time=   0.0s\n",
      "[CV 1/6] END learning_rate=0.1, max_depth=9, n_estimators=50; total time=   0.1s\n",
      "[CV 2/6] END learning_rate=0.1, max_depth=9, n_estimators=50; total time=   0.1s\n",
      "[CV 3/6] END learning_rate=0.1, max_depth=9, n_estimators=50; total time=   0.1s\n",
      "[CV 4/6] END learning_rate=0.1, max_depth=9, n_estimators=50; total time=   0.1s\n",
      "[CV 5/6] END learning_rate=0.1, max_depth=9, n_estimators=50; total time=   0.1s\n",
      "[CV 6/6] END learning_rate=0.1, max_depth=9, n_estimators=50; total time=   0.1s\n",
      "[CV 1/6] END learning_rate=0.1, max_depth=9, n_estimators=250; total time=   0.3s\n",
      "[CV 2/6] END learning_rate=0.1, max_depth=9, n_estimators=250; total time=   0.3s\n",
      "[CV 3/6] END learning_rate=0.1, max_depth=9, n_estimators=250; total time=   0.3s\n",
      "[CV 4/6] END learning_rate=0.1, max_depth=9, n_estimators=250; total time=   0.3s\n",
      "[CV 5/6] END learning_rate=0.1, max_depth=9, n_estimators=250; total time=   0.3s\n",
      "[CV 6/6] END learning_rate=0.1, max_depth=9, n_estimators=250; total time=   0.3s\n",
      "[CV 1/6] END learning_rate=0.1, max_depth=9, n_estimators=500; total time=   0.6s\n",
      "[CV 2/6] END learning_rate=0.1, max_depth=9, n_estimators=500; total time=   0.6s\n",
      "[CV 3/6] END learning_rate=0.1, max_depth=9, n_estimators=500; total time=   0.7s\n",
      "[CV 4/6] END learning_rate=0.1, max_depth=9, n_estimators=500; total time=   0.5s\n",
      "[CV 5/6] END learning_rate=0.1, max_depth=9, n_estimators=500; total time=   0.6s\n",
      "[CV 6/6] END learning_rate=0.1, max_depth=9, n_estimators=500; total time=   0.5s\n",
      "[CV 1/6] END ...learning_rate=1, max_depth=1, n_estimators=5; total time=   0.0s\n",
      "[CV 2/6] END ...learning_rate=1, max_depth=1, n_estimators=5; total time=   0.0s\n",
      "[CV 3/6] END ...learning_rate=1, max_depth=1, n_estimators=5; total time=   0.0s\n",
      "[CV 4/6] END ...learning_rate=1, max_depth=1, n_estimators=5; total time=   0.0s\n",
      "[CV 5/6] END ...learning_rate=1, max_depth=1, n_estimators=5; total time=   0.0s\n",
      "[CV 6/6] END ...learning_rate=1, max_depth=1, n_estimators=5; total time=   0.0s\n",
      "[CV 1/6] END ..learning_rate=1, max_depth=1, n_estimators=50; total time=   0.0s\n",
      "[CV 2/6] END ..learning_rate=1, max_depth=1, n_estimators=50; total time=   0.0s\n",
      "[CV 3/6] END ..learning_rate=1, max_depth=1, n_estimators=50; total time=   0.0s\n",
      "[CV 4/6] END ..learning_rate=1, max_depth=1, n_estimators=50; total time=   0.0s\n",
      "[CV 5/6] END ..learning_rate=1, max_depth=1, n_estimators=50; total time=   0.0s\n",
      "[CV 6/6] END ..learning_rate=1, max_depth=1, n_estimators=50; total time=   0.0s\n",
      "[CV 1/6] END .learning_rate=1, max_depth=1, n_estimators=250; total time=   0.1s\n",
      "[CV 2/6] END .learning_rate=1, max_depth=1, n_estimators=250; total time=   0.1s\n",
      "[CV 3/6] END .learning_rate=1, max_depth=1, n_estimators=250; total time=   0.1s\n",
      "[CV 4/6] END .learning_rate=1, max_depth=1, n_estimators=250; total time=   0.1s\n",
      "[CV 5/6] END .learning_rate=1, max_depth=1, n_estimators=250; total time=   0.1s\n",
      "[CV 6/6] END .learning_rate=1, max_depth=1, n_estimators=250; total time=   0.1s\n",
      "[CV 1/6] END .learning_rate=1, max_depth=1, n_estimators=500; total time=   0.2s\n",
      "[CV 2/6] END .learning_rate=1, max_depth=1, n_estimators=500; total time=   0.2s\n",
      "[CV 3/6] END .learning_rate=1, max_depth=1, n_estimators=500; total time=   0.2s\n",
      "[CV 4/6] END .learning_rate=1, max_depth=1, n_estimators=500; total time=   0.2s\n",
      "[CV 5/6] END .learning_rate=1, max_depth=1, n_estimators=500; total time=   0.2s\n",
      "[CV 6/6] END .learning_rate=1, max_depth=1, n_estimators=500; total time=   0.2s\n",
      "[CV 1/6] END ...learning_rate=1, max_depth=3, n_estimators=5; total time=   0.0s\n",
      "[CV 2/6] END ...learning_rate=1, max_depth=3, n_estimators=5; total time=   0.0s\n",
      "[CV 3/6] END ...learning_rate=1, max_depth=3, n_estimators=5; total time=   0.0s\n",
      "[CV 4/6] END ...learning_rate=1, max_depth=3, n_estimators=5; total time=   0.0s\n",
      "[CV 5/6] END ...learning_rate=1, max_depth=3, n_estimators=5; total time=   0.0s\n",
      "[CV 6/6] END ...learning_rate=1, max_depth=3, n_estimators=5; total time=   0.0s\n",
      "[CV 1/6] END ..learning_rate=1, max_depth=3, n_estimators=50; total time=   0.0s\n",
      "[CV 2/6] END ..learning_rate=1, max_depth=3, n_estimators=50; total time=   0.0s\n",
      "[CV 3/6] END ..learning_rate=1, max_depth=3, n_estimators=50; total time=   0.0s\n",
      "[CV 4/6] END ..learning_rate=1, max_depth=3, n_estimators=50; total time=   0.0s\n",
      "[CV 5/6] END ..learning_rate=1, max_depth=3, n_estimators=50; total time=   0.0s\n",
      "[CV 6/6] END ..learning_rate=1, max_depth=3, n_estimators=50; total time=   0.0s\n",
      "[CV 1/6] END .learning_rate=1, max_depth=3, n_estimators=250; total time=   0.1s\n",
      "[CV 2/6] END .learning_rate=1, max_depth=3, n_estimators=250; total time=   0.1s\n",
      "[CV 3/6] END .learning_rate=1, max_depth=3, n_estimators=250; total time=   0.1s\n",
      "[CV 4/6] END .learning_rate=1, max_depth=3, n_estimators=250; total time=   0.1s\n",
      "[CV 5/6] END .learning_rate=1, max_depth=3, n_estimators=250; total time=   0.1s\n",
      "[CV 6/6] END .learning_rate=1, max_depth=3, n_estimators=250; total time=   0.1s\n",
      "[CV 1/6] END .learning_rate=1, max_depth=3, n_estimators=500; total time=   0.3s\n",
      "[CV 2/6] END .learning_rate=1, max_depth=3, n_estimators=500; total time=   0.3s\n",
      "[CV 3/6] END .learning_rate=1, max_depth=3, n_estimators=500; total time=   0.3s\n",
      "[CV 4/6] END .learning_rate=1, max_depth=3, n_estimators=500; total time=   0.3s\n",
      "[CV 5/6] END .learning_rate=1, max_depth=3, n_estimators=500; total time=   0.3s\n",
      "[CV 6/6] END .learning_rate=1, max_depth=3, n_estimators=500; total time=   0.3s\n",
      "[CV 1/6] END ...learning_rate=1, max_depth=5, n_estimators=5; total time=   0.0s\n",
      "[CV 2/6] END ...learning_rate=1, max_depth=5, n_estimators=5; total time=   0.0s\n",
      "[CV 3/6] END ...learning_rate=1, max_depth=5, n_estimators=5; total time=   0.0s\n",
      "[CV 4/6] END ...learning_rate=1, max_depth=5, n_estimators=5; total time=   0.0s\n",
      "[CV 5/6] END ...learning_rate=1, max_depth=5, n_estimators=5; total time=   0.0s\n",
      "[CV 6/6] END ...learning_rate=1, max_depth=5, n_estimators=5; total time=   0.0s\n",
      "[CV 1/6] END ..learning_rate=1, max_depth=5, n_estimators=50; total time=   0.0s\n",
      "[CV 2/6] END ..learning_rate=1, max_depth=5, n_estimators=50; total time=   0.0s\n",
      "[CV 3/6] END ..learning_rate=1, max_depth=5, n_estimators=50; total time=   0.0s\n",
      "[CV 4/6] END ..learning_rate=1, max_depth=5, n_estimators=50; total time=   0.1s\n",
      "[CV 5/6] END ..learning_rate=1, max_depth=5, n_estimators=50; total time=   0.0s\n",
      "[CV 6/6] END ..learning_rate=1, max_depth=5, n_estimators=50; total time=   0.0s\n",
      "[CV 1/6] END .learning_rate=1, max_depth=5, n_estimators=250; total time=   0.2s\n",
      "[CV 2/6] END .learning_rate=1, max_depth=5, n_estimators=250; total time=   0.2s\n",
      "[CV 3/6] END .learning_rate=1, max_depth=5, n_estimators=250; total time=   0.2s\n",
      "[CV 4/6] END .learning_rate=1, max_depth=5, n_estimators=250; total time=   0.2s\n",
      "[CV 5/6] END .learning_rate=1, max_depth=5, n_estimators=250; total time=   0.2s\n",
      "[CV 6/6] END .learning_rate=1, max_depth=5, n_estimators=250; total time=   0.2s\n",
      "[CV 1/6] END .learning_rate=1, max_depth=5, n_estimators=500; total time=   0.4s\n",
      "[CV 2/6] END .learning_rate=1, max_depth=5, n_estimators=500; total time=   0.4s\n",
      "[CV 3/6] END .learning_rate=1, max_depth=5, n_estimators=500; total time=   0.4s\n",
      "[CV 4/6] END .learning_rate=1, max_depth=5, n_estimators=500; total time=   0.4s\n",
      "[CV 5/6] END .learning_rate=1, max_depth=5, n_estimators=500; total time=   0.4s\n",
      "[CV 6/6] END .learning_rate=1, max_depth=5, n_estimators=500; total time=   0.4s\n",
      "[CV 1/6] END ...learning_rate=1, max_depth=7, n_estimators=5; total time=   0.0s\n",
      "[CV 2/6] END ...learning_rate=1, max_depth=7, n_estimators=5; total time=   0.0s\n",
      "[CV 3/6] END ...learning_rate=1, max_depth=7, n_estimators=5; total time=   0.0s\n",
      "[CV 4/6] END ...learning_rate=1, max_depth=7, n_estimators=5; total time=   0.0s\n",
      "[CV 5/6] END ...learning_rate=1, max_depth=7, n_estimators=5; total time=   0.0s\n",
      "[CV 6/6] END ...learning_rate=1, max_depth=7, n_estimators=5; total time=   0.0s\n",
      "[CV 1/6] END ..learning_rate=1, max_depth=7, n_estimators=50; total time=   0.1s\n",
      "[CV 2/6] END ..learning_rate=1, max_depth=7, n_estimators=50; total time=   0.1s\n",
      "[CV 3/6] END ..learning_rate=1, max_depth=7, n_estimators=50; total time=   0.1s\n",
      "[CV 4/6] END ..learning_rate=1, max_depth=7, n_estimators=50; total time=   0.1s\n",
      "[CV 5/6] END ..learning_rate=1, max_depth=7, n_estimators=50; total time=   0.1s\n",
      "[CV 6/6] END ..learning_rate=1, max_depth=7, n_estimators=50; total time=   0.0s\n",
      "[CV 1/6] END .learning_rate=1, max_depth=7, n_estimators=250; total time=   0.3s\n",
      "[CV 2/6] END .learning_rate=1, max_depth=7, n_estimators=250; total time=   0.3s\n",
      "[CV 3/6] END .learning_rate=1, max_depth=7, n_estimators=250; total time=   0.3s\n",
      "[CV 4/6] END .learning_rate=1, max_depth=7, n_estimators=250; total time=   0.3s\n",
      "[CV 5/6] END .learning_rate=1, max_depth=7, n_estimators=250; total time=   0.3s\n",
      "[CV 6/6] END .learning_rate=1, max_depth=7, n_estimators=250; total time=   0.2s\n",
      "[CV 1/6] END .learning_rate=1, max_depth=7, n_estimators=500; total time=   0.5s\n",
      "[CV 2/6] END .learning_rate=1, max_depth=7, n_estimators=500; total time=   0.6s\n",
      "[CV 3/6] END .learning_rate=1, max_depth=7, n_estimators=500; total time=   0.6s\n",
      "[CV 4/6] END .learning_rate=1, max_depth=7, n_estimators=500; total time=   0.5s\n",
      "[CV 5/6] END .learning_rate=1, max_depth=7, n_estimators=500; total time=   0.5s\n",
      "[CV 6/6] END .learning_rate=1, max_depth=7, n_estimators=500; total time=   0.5s\n",
      "[CV 1/6] END ...learning_rate=1, max_depth=9, n_estimators=5; total time=   0.0s\n",
      "[CV 2/6] END ...learning_rate=1, max_depth=9, n_estimators=5; total time=   0.0s\n",
      "[CV 3/6] END ...learning_rate=1, max_depth=9, n_estimators=5; total time=   0.0s\n",
      "[CV 4/6] END ...learning_rate=1, max_depth=9, n_estimators=5; total time=   0.0s\n",
      "[CV 5/6] END ...learning_rate=1, max_depth=9, n_estimators=5; total time=   0.0s\n",
      "[CV 6/6] END ...learning_rate=1, max_depth=9, n_estimators=5; total time=   0.0s\n",
      "[CV 1/6] END ..learning_rate=1, max_depth=9, n_estimators=50; total time=   0.1s\n",
      "[CV 2/6] END ..learning_rate=1, max_depth=9, n_estimators=50; total time=   0.1s\n",
      "[CV 3/6] END ..learning_rate=1, max_depth=9, n_estimators=50; total time=   0.1s\n",
      "[CV 4/6] END ..learning_rate=1, max_depth=9, n_estimators=50; total time=   0.1s\n",
      "[CV 5/6] END ..learning_rate=1, max_depth=9, n_estimators=50; total time=   0.1s\n",
      "[CV 6/6] END ..learning_rate=1, max_depth=9, n_estimators=50; total time=   0.0s\n",
      "[CV 1/6] END .learning_rate=1, max_depth=9, n_estimators=250; total time=   0.3s\n",
      "[CV 2/6] END .learning_rate=1, max_depth=9, n_estimators=250; total time=   0.3s\n",
      "[CV 3/6] END .learning_rate=1, max_depth=9, n_estimators=250; total time=   0.3s\n",
      "[CV 4/6] END .learning_rate=1, max_depth=9, n_estimators=250; total time=   0.3s\n",
      "[CV 5/6] END .learning_rate=1, max_depth=9, n_estimators=250; total time=   0.3s\n",
      "[CV 6/6] END .learning_rate=1, max_depth=9, n_estimators=250; total time=   0.2s\n",
      "[CV 1/6] END .learning_rate=1, max_depth=9, n_estimators=500; total time=   0.6s\n",
      "[CV 2/6] END .learning_rate=1, max_depth=9, n_estimators=500; total time=   0.6s\n",
      "[CV 3/6] END .learning_rate=1, max_depth=9, n_estimators=500; total time=   0.6s\n",
      "[CV 4/6] END .learning_rate=1, max_depth=9, n_estimators=500; total time=   0.6s\n",
      "[CV 5/6] END .learning_rate=1, max_depth=9, n_estimators=500; total time=   0.6s\n",
      "[CV 6/6] END .learning_rate=1, max_depth=9, n_estimators=500; total time=   0.5s\n",
      "[CV 1/6] END ..learning_rate=10, max_depth=1, n_estimators=5; total time=   0.0s\n",
      "[CV 2/6] END ..learning_rate=10, max_depth=1, n_estimators=5; total time=   0.0s\n",
      "[CV 3/6] END ..learning_rate=10, max_depth=1, n_estimators=5; total time=   0.0s\n",
      "[CV 4/6] END ..learning_rate=10, max_depth=1, n_estimators=5; total time=   0.0s\n",
      "[CV 5/6] END ..learning_rate=10, max_depth=1, n_estimators=5; total time=   0.0s\n",
      "[CV 6/6] END ..learning_rate=10, max_depth=1, n_estimators=5; total time=   0.0s\n",
      "[CV 1/6] END .learning_rate=10, max_depth=1, n_estimators=50; total time=   0.0s\n",
      "[CV 2/6] END .learning_rate=10, max_depth=1, n_estimators=50; total time=   0.0s\n",
      "[CV 3/6] END .learning_rate=10, max_depth=1, n_estimators=50; total time=   0.0s\n",
      "[CV 4/6] END .learning_rate=10, max_depth=1, n_estimators=50; total time=   0.0s\n",
      "[CV 5/6] END .learning_rate=10, max_depth=1, n_estimators=50; total time=   0.0s\n",
      "[CV 6/6] END .learning_rate=10, max_depth=1, n_estimators=50; total time=   0.0s\n",
      "[CV 1/6] END learning_rate=10, max_depth=1, n_estimators=250; total time=   0.1s\n",
      "[CV 2/6] END learning_rate=10, max_depth=1, n_estimators=250; total time=   0.1s\n",
      "[CV 3/6] END learning_rate=10, max_depth=1, n_estimators=250; total time=   0.1s\n",
      "[CV 4/6] END learning_rate=10, max_depth=1, n_estimators=250; total time=   0.1s\n",
      "[CV 5/6] END learning_rate=10, max_depth=1, n_estimators=250; total time=   0.1s\n",
      "[CV 6/6] END learning_rate=10, max_depth=1, n_estimators=250; total time=   0.1s\n",
      "[CV 1/6] END learning_rate=10, max_depth=1, n_estimators=500; total time=   0.2s\n",
      "[CV 2/6] END learning_rate=10, max_depth=1, n_estimators=500; total time=   0.2s\n",
      "[CV 3/6] END learning_rate=10, max_depth=1, n_estimators=500; total time=   0.2s\n",
      "[CV 4/6] END learning_rate=10, max_depth=1, n_estimators=500; total time=   0.2s\n",
      "[CV 5/6] END learning_rate=10, max_depth=1, n_estimators=500; total time=   0.2s\n",
      "[CV 6/6] END learning_rate=10, max_depth=1, n_estimators=500; total time=   0.2s\n",
      "[CV 1/6] END ..learning_rate=10, max_depth=3, n_estimators=5; total time=   0.0s\n",
      "[CV 2/6] END ..learning_rate=10, max_depth=3, n_estimators=5; total time=   0.0s\n",
      "[CV 3/6] END ..learning_rate=10, max_depth=3, n_estimators=5; total time=   0.0s\n",
      "[CV 4/6] END ..learning_rate=10, max_depth=3, n_estimators=5; total time=   0.0s\n",
      "[CV 5/6] END ..learning_rate=10, max_depth=3, n_estimators=5; total time=   0.0s\n",
      "[CV 6/6] END ..learning_rate=10, max_depth=3, n_estimators=5; total time=   0.0s\n",
      "[CV 1/6] END .learning_rate=10, max_depth=3, n_estimators=50; total time=   0.0s\n",
      "[CV 2/6] END .learning_rate=10, max_depth=3, n_estimators=50; total time=   0.0s\n",
      "[CV 3/6] END .learning_rate=10, max_depth=3, n_estimators=50; total time=   0.0s\n",
      "[CV 4/6] END .learning_rate=10, max_depth=3, n_estimators=50; total time=   0.0s\n",
      "[CV 5/6] END .learning_rate=10, max_depth=3, n_estimators=50; total time=   0.0s\n",
      "[CV 6/6] END .learning_rate=10, max_depth=3, n_estimators=50; total time=   0.0s\n",
      "[CV 1/6] END learning_rate=10, max_depth=3, n_estimators=250; total time=   0.1s\n",
      "[CV 2/6] END learning_rate=10, max_depth=3, n_estimators=250; total time=   0.1s\n",
      "[CV 3/6] END learning_rate=10, max_depth=3, n_estimators=250; total time=   0.1s\n",
      "[CV 4/6] END learning_rate=10, max_depth=3, n_estimators=250; total time=   0.1s\n",
      "[CV 5/6] END learning_rate=10, max_depth=3, n_estimators=250; total time=   0.2s\n",
      "[CV 6/6] END learning_rate=10, max_depth=3, n_estimators=250; total time=   0.1s\n",
      "[CV 1/6] END learning_rate=10, max_depth=3, n_estimators=500; total time=   0.3s\n",
      "[CV 2/6] END learning_rate=10, max_depth=3, n_estimators=500; total time=   0.3s\n",
      "[CV 3/6] END learning_rate=10, max_depth=3, n_estimators=500; total time=   0.2s\n",
      "[CV 4/6] END learning_rate=10, max_depth=3, n_estimators=500; total time=   0.3s\n",
      "[CV 5/6] END learning_rate=10, max_depth=3, n_estimators=500; total time=   0.3s\n",
      "[CV 6/6] END learning_rate=10, max_depth=3, n_estimators=500; total time=   0.3s\n",
      "[CV 1/6] END ..learning_rate=10, max_depth=5, n_estimators=5; total time=   0.0s\n",
      "[CV 2/6] END ..learning_rate=10, max_depth=5, n_estimators=5; total time=   0.0s\n",
      "[CV 3/6] END ..learning_rate=10, max_depth=5, n_estimators=5; total time=   0.0s\n",
      "[CV 4/6] END ..learning_rate=10, max_depth=5, n_estimators=5; total time=   0.0s\n",
      "[CV 5/6] END ..learning_rate=10, max_depth=5, n_estimators=5; total time=   0.0s\n",
      "[CV 6/6] END ..learning_rate=10, max_depth=5, n_estimators=5; total time=   0.0s\n",
      "[CV 1/6] END .learning_rate=10, max_depth=5, n_estimators=50; total time=   0.0s\n",
      "[CV 2/6] END .learning_rate=10, max_depth=5, n_estimators=50; total time=   0.0s\n",
      "[CV 3/6] END .learning_rate=10, max_depth=5, n_estimators=50; total time=   0.0s\n",
      "[CV 4/6] END .learning_rate=10, max_depth=5, n_estimators=50; total time=   0.0s\n",
      "[CV 5/6] END .learning_rate=10, max_depth=5, n_estimators=50; total time=   0.0s\n",
      "[CV 6/6] END .learning_rate=10, max_depth=5, n_estimators=50; total time=   0.0s\n",
      "[CV 1/6] END learning_rate=10, max_depth=5, n_estimators=250; total time=   0.2s\n",
      "[CV 2/6] END learning_rate=10, max_depth=5, n_estimators=250; total time=   0.2s\n",
      "[CV 3/6] END learning_rate=10, max_depth=5, n_estimators=250; total time=   0.2s\n",
      "[CV 4/6] END learning_rate=10, max_depth=5, n_estimators=250; total time=   0.2s\n",
      "[CV 5/6] END learning_rate=10, max_depth=5, n_estimators=250; total time=   0.2s\n",
      "[CV 6/6] END learning_rate=10, max_depth=5, n_estimators=250; total time=   0.2s\n",
      "[CV 1/6] END learning_rate=10, max_depth=5, n_estimators=500; total time=   0.4s\n",
      "[CV 2/6] END learning_rate=10, max_depth=5, n_estimators=500; total time=   0.5s\n",
      "[CV 3/6] END learning_rate=10, max_depth=5, n_estimators=500; total time=   0.4s\n",
      "[CV 4/6] END learning_rate=10, max_depth=5, n_estimators=500; total time=   0.4s\n",
      "[CV 5/6] END learning_rate=10, max_depth=5, n_estimators=500; total time=   0.4s\n",
      "[CV 6/6] END learning_rate=10, max_depth=5, n_estimators=500; total time=   0.4s\n",
      "[CV 1/6] END ..learning_rate=10, max_depth=7, n_estimators=5; total time=   0.0s\n",
      "[CV 2/6] END ..learning_rate=10, max_depth=7, n_estimators=5; total time=   0.0s\n",
      "[CV 3/6] END ..learning_rate=10, max_depth=7, n_estimators=5; total time=   0.0s\n",
      "[CV 4/6] END ..learning_rate=10, max_depth=7, n_estimators=5; total time=   0.0s\n",
      "[CV 5/6] END ..learning_rate=10, max_depth=7, n_estimators=5; total time=   0.0s\n",
      "[CV 6/6] END ..learning_rate=10, max_depth=7, n_estimators=5; total time=   0.0s\n",
      "[CV 1/6] END .learning_rate=10, max_depth=7, n_estimators=50; total time=   0.1s\n",
      "[CV 2/6] END .learning_rate=10, max_depth=7, n_estimators=50; total time=   0.1s\n",
      "[CV 3/6] END .learning_rate=10, max_depth=7, n_estimators=50; total time=   0.1s\n",
      "[CV 4/6] END .learning_rate=10, max_depth=7, n_estimators=50; total time=   0.0s\n",
      "[CV 5/6] END .learning_rate=10, max_depth=7, n_estimators=50; total time=   0.1s\n",
      "[CV 6/6] END .learning_rate=10, max_depth=7, n_estimators=50; total time=   0.0s\n",
      "[CV 1/6] END learning_rate=10, max_depth=7, n_estimators=250; total time=   0.3s\n",
      "[CV 2/6] END learning_rate=10, max_depth=7, n_estimators=250; total time=   0.3s\n",
      "[CV 3/6] END learning_rate=10, max_depth=7, n_estimators=250; total time=   0.2s\n",
      "[CV 4/6] END learning_rate=10, max_depth=7, n_estimators=250; total time=   0.2s\n",
      "[CV 5/6] END learning_rate=10, max_depth=7, n_estimators=250; total time=   0.3s\n",
      "[CV 6/6] END learning_rate=10, max_depth=7, n_estimators=250; total time=   0.2s\n",
      "[CV 1/6] END learning_rate=10, max_depth=7, n_estimators=500; total time=   0.6s\n",
      "[CV 2/6] END learning_rate=10, max_depth=7, n_estimators=500; total time=   0.5s\n",
      "[CV 3/6] END learning_rate=10, max_depth=7, n_estimators=500; total time=   0.6s\n",
      "[CV 4/6] END learning_rate=10, max_depth=7, n_estimators=500; total time=   0.5s\n",
      "[CV 5/6] END learning_rate=10, max_depth=7, n_estimators=500; total time=   0.5s\n",
      "[CV 6/6] END learning_rate=10, max_depth=7, n_estimators=500; total time=   0.5s\n",
      "[CV 1/6] END ..learning_rate=10, max_depth=9, n_estimators=5; total time=   0.0s\n",
      "[CV 2/6] END ..learning_rate=10, max_depth=9, n_estimators=5; total time=   0.0s\n",
      "[CV 3/6] END ..learning_rate=10, max_depth=9, n_estimators=5; total time=   0.0s\n",
      "[CV 4/6] END ..learning_rate=10, max_depth=9, n_estimators=5; total time=   0.0s\n",
      "[CV 5/6] END ..learning_rate=10, max_depth=9, n_estimators=5; total time=   0.0s\n",
      "[CV 6/6] END ..learning_rate=10, max_depth=9, n_estimators=5; total time=   0.0s\n",
      "[CV 1/6] END .learning_rate=10, max_depth=9, n_estimators=50; total time=   0.1s\n",
      "[CV 2/6] END .learning_rate=10, max_depth=9, n_estimators=50; total time=   0.1s\n",
      "[CV 3/6] END .learning_rate=10, max_depth=9, n_estimators=50; total time=   0.1s\n",
      "[CV 4/6] END .learning_rate=10, max_depth=9, n_estimators=50; total time=   0.1s\n",
      "[CV 5/6] END .learning_rate=10, max_depth=9, n_estimators=50; total time=   0.1s\n",
      "[CV 6/6] END .learning_rate=10, max_depth=9, n_estimators=50; total time=   0.1s\n",
      "[CV 1/6] END learning_rate=10, max_depth=9, n_estimators=250; total time=   0.3s\n",
      "[CV 2/6] END learning_rate=10, max_depth=9, n_estimators=250; total time=   0.3s\n",
      "[CV 3/6] END learning_rate=10, max_depth=9, n_estimators=250; total time=   0.4s\n",
      "[CV 4/6] END learning_rate=10, max_depth=9, n_estimators=250; total time=   0.2s\n",
      "[CV 5/6] END learning_rate=10, max_depth=9, n_estimators=250; total time=   0.3s\n",
      "[CV 6/6] END learning_rate=10, max_depth=9, n_estimators=250; total time=   0.3s\n",
      "[CV 1/6] END learning_rate=10, max_depth=9, n_estimators=500; total time=   0.6s\n",
      "[CV 2/6] END learning_rate=10, max_depth=9, n_estimators=500; total time=   0.6s\n",
      "[CV 3/6] END learning_rate=10, max_depth=9, n_estimators=500; total time=   0.5s\n",
      "[CV 4/6] END learning_rate=10, max_depth=9, n_estimators=500; total time=   0.5s\n",
      "[CV 5/6] END learning_rate=10, max_depth=9, n_estimators=500; total time=   0.6s\n",
      "[CV 6/6] END learning_rate=10, max_depth=9, n_estimators=500; total time=   0.5s\n",
      "[CV 1/6] END .learning_rate=100, max_depth=1, n_estimators=5; total time=   0.0s\n",
      "[CV 2/6] END .learning_rate=100, max_depth=1, n_estimators=5; total time=   0.0s\n",
      "[CV 3/6] END .learning_rate=100, max_depth=1, n_estimators=5; total time=   0.0s\n",
      "[CV 4/6] END .learning_rate=100, max_depth=1, n_estimators=5; total time=   0.0s\n",
      "[CV 5/6] END .learning_rate=100, max_depth=1, n_estimators=5; total time=   0.0s\n",
      "[CV 6/6] END .learning_rate=100, max_depth=1, n_estimators=5; total time=   0.0s\n",
      "[CV 1/6] END learning_rate=100, max_depth=1, n_estimators=50; total time=   0.0s\n",
      "[CV 2/6] END learning_rate=100, max_depth=1, n_estimators=50; total time=   0.0s\n",
      "[CV 3/6] END learning_rate=100, max_depth=1, n_estimators=50; total time=   0.0s\n",
      "[CV 4/6] END learning_rate=100, max_depth=1, n_estimators=50; total time=   0.0s\n",
      "[CV 5/6] END learning_rate=100, max_depth=1, n_estimators=50; total time=   0.0s\n",
      "[CV 6/6] END learning_rate=100, max_depth=1, n_estimators=50; total time=   0.0s\n",
      "[CV 1/6] END learning_rate=100, max_depth=1, n_estimators=250; total time=   0.1s\n",
      "[CV 2/6] END learning_rate=100, max_depth=1, n_estimators=250; total time=   0.1s\n",
      "[CV 3/6] END learning_rate=100, max_depth=1, n_estimators=250; total time=   0.1s\n",
      "[CV 4/6] END learning_rate=100, max_depth=1, n_estimators=250; total time=   0.1s\n",
      "[CV 5/6] END learning_rate=100, max_depth=1, n_estimators=250; total time=   0.1s\n",
      "[CV 6/6] END learning_rate=100, max_depth=1, n_estimators=250; total time=   0.1s\n",
      "[CV 1/6] END learning_rate=100, max_depth=1, n_estimators=500; total time=   0.2s\n",
      "[CV 2/6] END learning_rate=100, max_depth=1, n_estimators=500; total time=   0.2s\n",
      "[CV 3/6] END learning_rate=100, max_depth=1, n_estimators=500; total time=   0.2s\n",
      "[CV 4/6] END learning_rate=100, max_depth=1, n_estimators=500; total time=   0.2s\n",
      "[CV 5/6] END learning_rate=100, max_depth=1, n_estimators=500; total time=   0.2s\n",
      "[CV 6/6] END learning_rate=100, max_depth=1, n_estimators=500; total time=   0.2s\n",
      "[CV 1/6] END .learning_rate=100, max_depth=3, n_estimators=5; total time=   0.0s\n",
      "[CV 2/6] END .learning_rate=100, max_depth=3, n_estimators=5; total time=   0.0s\n",
      "[CV 3/6] END .learning_rate=100, max_depth=3, n_estimators=5; total time=   0.0s\n",
      "[CV 4/6] END .learning_rate=100, max_depth=3, n_estimators=5; total time=   0.0s\n",
      "[CV 5/6] END .learning_rate=100, max_depth=3, n_estimators=5; total time=   0.0s\n",
      "[CV 6/6] END .learning_rate=100, max_depth=3, n_estimators=5; total time=   0.0s\n",
      "[CV 1/6] END learning_rate=100, max_depth=3, n_estimators=50; total time=   0.0s\n",
      "[CV 2/6] END learning_rate=100, max_depth=3, n_estimators=50; total time=   0.0s\n",
      "[CV 3/6] END learning_rate=100, max_depth=3, n_estimators=50; total time=   0.0s\n",
      "[CV 4/6] END learning_rate=100, max_depth=3, n_estimators=50; total time=   0.0s\n",
      "[CV 5/6] END learning_rate=100, max_depth=3, n_estimators=50; total time=   0.0s\n",
      "[CV 6/6] END learning_rate=100, max_depth=3, n_estimators=50; total time=   0.0s\n",
      "[CV 1/6] END learning_rate=100, max_depth=3, n_estimators=250; total time=   0.1s\n",
      "[CV 2/6] END learning_rate=100, max_depth=3, n_estimators=250; total time=   0.1s\n",
      "[CV 3/6] END learning_rate=100, max_depth=3, n_estimators=250; total time=   0.1s\n",
      "[CV 4/6] END learning_rate=100, max_depth=3, n_estimators=250; total time=   0.1s\n",
      "[CV 5/6] END learning_rate=100, max_depth=3, n_estimators=250; total time=   0.2s\n",
      "[CV 6/6] END learning_rate=100, max_depth=3, n_estimators=250; total time=   0.1s\n",
      "[CV 1/6] END learning_rate=100, max_depth=3, n_estimators=500; total time=   0.3s\n",
      "[CV 2/6] END learning_rate=100, max_depth=3, n_estimators=500; total time=   0.3s\n",
      "[CV 3/6] END learning_rate=100, max_depth=3, n_estimators=500; total time=   0.2s\n",
      "[CV 4/6] END learning_rate=100, max_depth=3, n_estimators=500; total time=   0.3s\n",
      "[CV 5/6] END learning_rate=100, max_depth=3, n_estimators=500; total time=   0.3s\n",
      "[CV 6/6] END learning_rate=100, max_depth=3, n_estimators=500; total time=   0.3s\n",
      "[CV 1/6] END .learning_rate=100, max_depth=5, n_estimators=5; total time=   0.0s\n",
      "[CV 2/6] END .learning_rate=100, max_depth=5, n_estimators=5; total time=   0.0s\n",
      "[CV 3/6] END .learning_rate=100, max_depth=5, n_estimators=5; total time=   0.0s\n",
      "[CV 4/6] END .learning_rate=100, max_depth=5, n_estimators=5; total time=   0.0s\n",
      "[CV 5/6] END .learning_rate=100, max_depth=5, n_estimators=5; total time=   0.0s\n",
      "[CV 6/6] END .learning_rate=100, max_depth=5, n_estimators=5; total time=   0.0s\n",
      "[CV 1/6] END learning_rate=100, max_depth=5, n_estimators=50; total time=   0.0s\n",
      "[CV 2/6] END learning_rate=100, max_depth=5, n_estimators=50; total time=   0.0s\n",
      "[CV 3/6] END learning_rate=100, max_depth=5, n_estimators=50; total time=   0.0s\n",
      "[CV 4/6] END learning_rate=100, max_depth=5, n_estimators=50; total time=   0.0s\n",
      "[CV 5/6] END learning_rate=100, max_depth=5, n_estimators=50; total time=   0.0s\n",
      "[CV 6/6] END learning_rate=100, max_depth=5, n_estimators=50; total time=   0.0s\n",
      "[CV 1/6] END learning_rate=100, max_depth=5, n_estimators=250; total time=   0.2s\n",
      "[CV 2/6] END learning_rate=100, max_depth=5, n_estimators=250; total time=   0.1s\n",
      "[CV 3/6] END learning_rate=100, max_depth=5, n_estimators=250; total time=   0.2s\n",
      "[CV 4/6] END learning_rate=100, max_depth=5, n_estimators=250; total time=   0.0s\n",
      "[CV 5/6] END learning_rate=100, max_depth=5, n_estimators=250; total time=   0.4s\n",
      "[CV 6/6] END learning_rate=100, max_depth=5, n_estimators=250; total time=   0.1s\n",
      "[CV 1/6] END learning_rate=100, max_depth=5, n_estimators=500; total time=   0.4s\n",
      "[CV 2/6] END learning_rate=100, max_depth=5, n_estimators=500; total time=   0.2s\n",
      "[CV 3/6] END learning_rate=100, max_depth=5, n_estimators=500; total time=   0.5s\n",
      "[CV 4/6] END learning_rate=100, max_depth=5, n_estimators=500; total time=   0.1s\n",
      "[CV 5/6] END learning_rate=100, max_depth=5, n_estimators=500; total time=   0.5s\n",
      "[CV 6/6] END learning_rate=100, max_depth=5, n_estimators=500; total time=   0.1s\n",
      "[CV 1/6] END .learning_rate=100, max_depth=7, n_estimators=5; total time=   0.0s\n",
      "[CV 2/6] END .learning_rate=100, max_depth=7, n_estimators=5; total time=   0.0s\n",
      "[CV 3/6] END .learning_rate=100, max_depth=7, n_estimators=5; total time=   0.0s\n",
      "[CV 4/6] END .learning_rate=100, max_depth=7, n_estimators=5; total time=   0.0s\n",
      "[CV 5/6] END .learning_rate=100, max_depth=7, n_estimators=5; total time=   0.0s\n",
      "[CV 6/6] END .learning_rate=100, max_depth=7, n_estimators=5; total time=   0.0s\n",
      "[CV 1/6] END learning_rate=100, max_depth=7, n_estimators=50; total time=   0.0s\n",
      "[CV 2/6] END learning_rate=100, max_depth=7, n_estimators=50; total time=   0.0s\n",
      "[CV 3/6] END learning_rate=100, max_depth=7, n_estimators=50; total time=   0.0s\n",
      "[CV 4/6] END learning_rate=100, max_depth=7, n_estimators=50; total time=   0.0s\n",
      "[CV 5/6] END learning_rate=100, max_depth=7, n_estimators=50; total time=   0.0s\n",
      "[CV 6/6] END learning_rate=100, max_depth=7, n_estimators=50; total time=   0.0s\n",
      "[CV 1/6] END learning_rate=100, max_depth=7, n_estimators=250; total time=   0.1s\n",
      "[CV 2/6] END learning_rate=100, max_depth=7, n_estimators=250; total time=   0.0s\n",
      "[CV 3/6] END learning_rate=100, max_depth=7, n_estimators=250; total time=   0.2s\n",
      "[CV 4/6] END learning_rate=100, max_depth=7, n_estimators=250; total time=   0.0s\n",
      "[CV 5/6] END learning_rate=100, max_depth=7, n_estimators=250; total time=   0.0s\n",
      "[CV 6/6] END learning_rate=100, max_depth=7, n_estimators=250; total time=   0.0s\n",
      "[CV 1/6] END learning_rate=100, max_depth=7, n_estimators=500; total time=   0.2s\n",
      "[CV 2/6] END learning_rate=100, max_depth=7, n_estimators=500; total time=   0.1s\n",
      "[CV 3/6] END learning_rate=100, max_depth=7, n_estimators=500; total time=   0.4s\n",
      "[CV 4/6] END learning_rate=100, max_depth=7, n_estimators=500; total time=   0.1s\n",
      "[CV 5/6] END learning_rate=100, max_depth=7, n_estimators=500; total time=   0.1s\n",
      "[CV 6/6] END learning_rate=100, max_depth=7, n_estimators=500; total time=   0.1s\n",
      "[CV 1/6] END .learning_rate=100, max_depth=9, n_estimators=5; total time=   0.0s\n",
      "[CV 2/6] END .learning_rate=100, max_depth=9, n_estimators=5; total time=   0.0s\n",
      "[CV 3/6] END .learning_rate=100, max_depth=9, n_estimators=5; total time=   0.0s\n",
      "[CV 4/6] END .learning_rate=100, max_depth=9, n_estimators=5; total time=   0.0s\n",
      "[CV 5/6] END .learning_rate=100, max_depth=9, n_estimators=5; total time=   0.0s\n",
      "[CV 6/6] END .learning_rate=100, max_depth=9, n_estimators=5; total time=   0.0s\n",
      "[CV 1/6] END learning_rate=100, max_depth=9, n_estimators=50; total time=   0.0s\n",
      "[CV 2/6] END learning_rate=100, max_depth=9, n_estimators=50; total time=   0.0s\n",
      "[CV 3/6] END learning_rate=100, max_depth=9, n_estimators=50; total time=   0.0s\n",
      "[CV 4/6] END learning_rate=100, max_depth=9, n_estimators=50; total time=   0.0s\n",
      "[CV 5/6] END learning_rate=100, max_depth=9, n_estimators=50; total time=   0.0s\n",
      "[CV 6/6] END learning_rate=100, max_depth=9, n_estimators=50; total time=   0.0s\n",
      "[CV 1/6] END learning_rate=100, max_depth=9, n_estimators=250; total time=   0.0s\n",
      "[CV 2/6] END learning_rate=100, max_depth=9, n_estimators=250; total time=   0.0s\n",
      "[CV 3/6] END learning_rate=100, max_depth=9, n_estimators=250; total time=   0.2s\n",
      "[CV 4/6] END learning_rate=100, max_depth=9, n_estimators=250; total time=   0.0s\n",
      "[CV 5/6] END learning_rate=100, max_depth=9, n_estimators=250; total time=   0.0s\n",
      "[CV 6/6] END learning_rate=100, max_depth=9, n_estimators=250; total time=   0.0s\n",
      "[CV 1/6] END learning_rate=100, max_depth=9, n_estimators=500; total time=   0.1s\n",
      "[CV 2/6] END learning_rate=100, max_depth=9, n_estimators=500; total time=   0.1s\n",
      "[CV 3/6] END learning_rate=100, max_depth=9, n_estimators=500; total time=   0.4s\n",
      "[CV 4/6] END learning_rate=100, max_depth=9, n_estimators=500; total time=   0.1s\n",
      "[CV 5/6] END learning_rate=100, max_depth=9, n_estimators=500; total time=   0.1s\n",
      "[CV 6/6] END learning_rate=100, max_depth=9, n_estimators=500; total time=   0.1s\n"
     ]
    },
    {
     "data": {
      "text/plain": [
       "GridSearchCV(cv=6, estimator=GradientBoostingClassifier(),\n",
       "             param_grid={'learning_rate': [0.01, 0.1, 1, 10, 100],\n",
       "                         'max_depth': [1, 3, 5, 7, 9],\n",
       "                         'n_estimators': [5, 50, 250, 500]},\n",
       "             verbose=3)"
      ]
     },
     "execution_count": 251,
     "metadata": {},
     "output_type": "execute_result"
    }
   ],
   "source": [
    "gbc = ensemble.GradientBoostingClassifier()\n",
    "parameters = {\n",
    "    \"n_estimators\":[5,50,250,500],\n",
    "    \"max_depth\":[1,3,5,7,9],\n",
    "    \"learning_rate\":[0.01,0.1,1,10,100]\n",
    "}\n",
    "gridGB = GridSearchCV(gbc, param_grid = parameters,cv=6, refit = True, verbose = 3)\n",
    "gridGB.fit(x_train, y_train)"
   ]
  },
  {
   "cell_type": "code",
   "execution_count": 252,
   "id": "310ad432",
   "metadata": {},
   "outputs": [
    {
     "data": {
      "text/plain": [
       "GradientBoostingClassifier(learning_rate=1, n_estimators=250)"
      ]
     },
     "execution_count": 252,
     "metadata": {},
     "output_type": "execute_result"
    }
   ],
   "source": [
    "gridGB.best_estimator_"
   ]
  },
  {
   "cell_type": "code",
   "execution_count": 256,
   "id": "0ce277df",
   "metadata": {},
   "outputs": [
    {
     "name": "stdout",
     "output_type": "stream",
     "text": [
      "Accuracy of Gradient Boosting: 89.47%\n"
     ]
    },
    {
     "data": {
      "text/plain": [
       "array([[16,  1],\n",
       "       [ 3, 18]])"
      ]
     },
     "execution_count": 256,
     "metadata": {},
     "output_type": "execute_result"
    }
   ],
   "source": [
    "gb = ensemble.GradientBoostingClassifier(learning_rate=1, n_estimators=250)\n",
    "gb.fit(x_train, y_train)\n",
    "acc = gb.score(x_test,y_test)*100\n",
    "accuracies['Gradient Boosting'] = acc\n",
    "gb_predictions = gb.predict(x_test)\n",
    "print(\"Accuracy of Gradient Boosting: {:.2f}%\".format(acc))\n",
    "confusion_matrix(y_test, gb_predictions)"
   ]
  },
  {
   "cell_type": "code",
   "execution_count": 257,
   "id": "13d8f23c",
   "metadata": {},
   "outputs": [
    {
     "name": "stdout",
     "output_type": "stream",
     "text": [
      "              precision    recall  f1-score   support\n",
      "\n",
      "           0       0.84      0.94      0.89        17\n",
      "           1       0.95      0.86      0.90        21\n",
      "\n",
      "    accuracy                           0.89        38\n",
      "   macro avg       0.89      0.90      0.89        38\n",
      "weighted avg       0.90      0.89      0.90        38\n",
      "\n"
     ]
    }
   ],
   "source": [
    "print(classification_report(y_test, gb_predictions))"
   ]
  },
  {
   "cell_type": "code",
   "execution_count": 258,
   "id": "b6110874",
   "metadata": {},
   "outputs": [
    {
     "name": "stdout",
     "output_type": "stream",
     "text": [
      "Accuracy of Logistic Regression: 71.05%\n"
     ]
    },
    {
     "data": {
      "text/plain": [
       "array([[15,  2],\n",
       "       [ 9, 12]])"
      ]
     },
     "execution_count": 258,
     "metadata": {},
     "output_type": "execute_result"
    }
   ],
   "source": [
    "#logistic regression\n",
    "from sklearn.linear_model import LogisticRegression\n",
    "lr = LogisticRegression()\n",
    "lr.fit(x_train, y_train)\n",
    "acc = lr.score(x_test,y_test)*100\n",
    "lr_predictions = lr.predict(x_test)\n",
    "print(\"Accuracy of Logistic Regression: {:.2f}%\".format(acc))\n",
    "confusion_matrix(y_test, lr_predictions)"
   ]
  },
  {
   "cell_type": "code",
   "execution_count": 259,
   "id": "96a5e2bb",
   "metadata": {},
   "outputs": [
    {
     "name": "stdout",
     "output_type": "stream",
     "text": [
      "              precision    recall  f1-score   support\n",
      "\n",
      "           0       0.62      0.88      0.73        17\n",
      "           1       0.86      0.57      0.69        21\n",
      "\n",
      "    accuracy                           0.71        38\n",
      "   macro avg       0.74      0.73      0.71        38\n",
      "weighted avg       0.75      0.71      0.71        38\n",
      "\n"
     ]
    }
   ],
   "source": [
    "print(classification_report(y_test, lr_predictions))"
   ]
  },
  {
   "cell_type": "code",
   "execution_count": 277,
   "id": "37559536",
   "metadata": {},
   "outputs": [
    {
     "name": "stdout",
     "output_type": "stream",
     "text": [
      "Fitting 4 folds for each of 1600 candidates, totalling 6400 fits\n"
     ]
    },
    {
     "name": "stderr",
     "output_type": "stream",
     "text": [
      "/Users/kbhaskar/opt/anaconda3/lib/python3.8/site-packages/sklearn/model_selection/_search.py:918: UserWarning: One or more of the test scores are non-finite: [       nan        nan 0.52311522 ...        nan 0.76778094 0.76120199]\n",
      "  warnings.warn(\n",
      "/Users/kbhaskar/opt/anaconda3/lib/python3.8/site-packages/sklearn/linear_model/_logistic.py:1322: UserWarning: Setting penalty='none' will ignore the C and l1_ratio parameters\n",
      "  warnings.warn(\n",
      "/Users/kbhaskar/opt/anaconda3/lib/python3.8/site-packages/sklearn/linear_model/_sag.py:328: ConvergenceWarning: The max_iter was reached which means the coef_ did not converge\n",
      "  warnings.warn(\"The max_iter was reached which means \"\n"
     ]
    },
    {
     "data": {
      "text/plain": [
       "GridSearchCV(cv=4, estimator=LogisticRegression(), n_jobs=-1,\n",
       "             param_grid=[{'C': array([1.00000000e-04, 2.63665090e-04, 6.95192796e-04, 1.83298071e-03,\n",
       "       4.83293024e-03, 1.27427499e-02, 3.35981829e-02, 8.85866790e-02,\n",
       "       2.33572147e-01, 6.15848211e-01, 1.62377674e+00, 4.28133240e+00,\n",
       "       1.12883789e+01, 2.97635144e+01, 7.84759970e+01, 2.06913808e+02,\n",
       "       5.45559478e+02, 1.43844989e+03, 3.79269019e+03, 1.00000000e+04]),\n",
       "                          'max_iter': [100, 1000, 2500, 5000],\n",
       "                          'penalty': ['l1', 'l2', 'elasticnet', 'none'],\n",
       "                          'solver': ['lbfgs', 'newton-cg', 'liblinear', 'sag',\n",
       "                                     'saga']}],\n",
       "             verbose=2)"
      ]
     },
     "execution_count": 277,
     "metadata": {},
     "output_type": "execute_result"
    }
   ],
   "source": [
    "lr = LogisticRegression()\n",
    "param_gridLR = [    \n",
    "    {'penalty' : ['l1', 'l2', 'elasticnet', 'none'],\n",
    "    'C' : np.logspace(-4, 4, 20),\n",
    "    'solver' : ['lbfgs','newton-cg','liblinear','sag','saga'],\n",
    "    'max_iter' : [100, 1000,2500, 5000]\n",
    "    }\n",
    "]\n",
    "gridLR = GridSearchCV(lr, param_grid=param_gridLR,cv=4,verbose = 2, n_jobs =-1)\n",
    "gridLR.fit(x_train, y_train)"
   ]
  },
  {
   "cell_type": "code",
   "execution_count": 278,
   "id": "eb55402c",
   "metadata": {},
   "outputs": [
    {
     "data": {
      "text/plain": [
       "LogisticRegression(C=0.012742749857031334, penalty='none', solver='saga')"
      ]
     },
     "execution_count": 278,
     "metadata": {},
     "output_type": "execute_result"
    }
   ],
   "source": [
    "gridLR.best_estimator_"
   ]
  },
  {
   "cell_type": "code",
   "execution_count": 281,
   "id": "4445fc13",
   "metadata": {},
   "outputs": [
    {
     "name": "stdout",
     "output_type": "stream",
     "text": [
      "Accuracy of Logistic Regression: 81.58%\n"
     ]
    },
    {
     "name": "stderr",
     "output_type": "stream",
     "text": [
      "/Users/kbhaskar/opt/anaconda3/lib/python3.8/site-packages/sklearn/linear_model/_logistic.py:1322: UserWarning: Setting penalty='none' will ignore the C and l1_ratio parameters\n",
      "  warnings.warn(\n",
      "/Users/kbhaskar/opt/anaconda3/lib/python3.8/site-packages/sklearn/linear_model/_sag.py:328: ConvergenceWarning: The max_iter was reached which means the coef_ did not converge\n",
      "  warnings.warn(\"The max_iter was reached which means \"\n"
     ]
    },
    {
     "data": {
      "text/plain": [
       "array([[14,  3],\n",
       "       [ 4, 17]])"
      ]
     },
     "execution_count": 281,
     "metadata": {},
     "output_type": "execute_result"
    }
   ],
   "source": [
    "lr = LogisticRegression(C=0.012742749857031334, penalty='none', solver='saga')\n",
    "lr.fit(x_train, y_train)\n",
    "acc = lr.score(x_test,y_test)*100\n",
    "accuracies['Logistic Regression'] = acc\n",
    "lr_predictions = lr.predict(x_test)\n",
    "print(\"Accuracy of Logistic Regression: {:.2f}%\".format(acc))\n",
    "confusion_matrix(y_test, lr_predictions)"
   ]
  },
  {
   "cell_type": "code",
   "execution_count": 282,
   "id": "69cec6f7",
   "metadata": {
    "scrolled": true
   },
   "outputs": [
    {
     "data": {
      "image/png": "[encoded data removed]",
      "text/plain": [
       "<Figure size 1152x360 with 1 Axes>"
      ]
     },
     "metadata": {},
     "output_type": "display_data"
    }
   ],
   "source": [
    "#graph accuracy of each model\n",
    "colors = [\"purple\", \"green\", \"orange\", \"magenta\",\"#CFC60E\",\"#0FBBAE\"]\n",
    "\n",
    "sns.set_style(\"whitegrid\")\n",
    "plt.figure(figsize=(16,5))\n",
    "plt.yticks(np.arange(0,100,10))\n",
    "plt.ylabel(\"Accuracy %\")\n",
    "plt.xlabel(\"Algorithms\")\n",
    "sns.barplot(x=list(accuracies.keys()), y=list(accuracies.values()), palette=colors)\n",
    "plt.show()"
   ]
  },
  {
   "cell_type": "code",
   "execution_count": 301,
   "id": "e42e33c0",
   "metadata": {},
   "outputs": [
    {
     "name": "stdout",
     "output_type": "stream",
     "text": [
      "{'KNN': 78.94736842105263, 'Random Forest': 84.21052631578947, 'Decision Tree': 78.94736842105263, 'SVM': 81.57894736842105, 'Naive Bayes': 78.94736842105263, 'Gradient Boosting': 89.47368421052632, 'Logistic Regression': 81.57894736842105}\n"
     ]
    }
   ],
   "source": [
    "print(accuracies\n",
    "    )"
   ]
  },
  {
   "cell_type": "code",
   "execution_count": 283,
   "id": "16dac18b",
   "metadata": {},
   "outputs": [],
   "source": [
    "#obtain probability for all classifiers\n",
    "r_probs = [0 for _ in range (len(y_test))]\n",
    "rf_probs = rf.predict_proba(x_test)\n",
    "nb_probs = nb.predict_proba(x_test)\n",
    "knn_probs = knn.predict_proba(x_test)\n",
    "dtc_probs = knn.predict_proba(x_test)\n",
    "svm_probs = svm.predict_proba(x_test)\n",
    "gb_probs = gb.predict_proba(x_test)\n",
    "lr_probs = lr.predict_proba(x_test)"
   ]
  },
  {
   "cell_type": "code",
   "execution_count": 284,
   "id": "474b7292",
   "metadata": {},
   "outputs": [],
   "source": [
    "rf_probs = rf_probs[:, 1]\n",
    "nb_probs = nb_probs[:, 1]\n",
    "knn_probs = knn_probs[:, 1]\n",
    "dtc_probs = dtc_probs[:, 1]\n",
    "svm_probs = svm_probs[:, 1]\n",
    "gb_probs = gb_probs[:, 1]\n",
    "lr_probs = lr_probs[:, 1]"
   ]
  },
  {
   "cell_type": "code",
   "execution_count": 285,
   "id": "d425c277",
   "metadata": {},
   "outputs": [],
   "source": [
    "from sklearn.metrics import roc_curve, roc_auc_score\n",
    "#calculate AUC score\n",
    "r_auc = roc_auc_score(y_test, r_probs)\n",
    "rf_auc = roc_auc_score(y_test, rf_probs)\n",
    "nb_auc = roc_auc_score(y_test, nb_probs)\n",
    "knn_auc = roc_auc_score(y_test,knn_probs)\n",
    "dtc_auc = roc_auc_score(y_test,dtc_probs)\n",
    "svm_auc = roc_auc_score(y_test,svm_probs)\n",
    "gb_auc = roc_auc_score(y_test,gb_probs)\n",
    "lr_auc = roc_auc_score(y_test,lr_probs)"
   ]
  },
  {
   "cell_type": "code",
   "execution_count": 286,
   "id": "4cbb9f61",
   "metadata": {},
   "outputs": [
    {
     "name": "stdout",
     "output_type": "stream",
     "text": [
      "Random (chance) Prediction: AUROC = 0.500\n",
      "Random Forest: AUROC = 0.964\n",
      "Naive Bayes: AUROC = 0.877\n",
      "K nearest Neighbor: AUROC = 0.866\n",
      "Desicion Tree: AUROC = 0.866\n",
      "Support Vector Machine: AUROC = 0.916\n",
      "Gradient Boosting: AUROC = 0.894\n",
      "Logistic Regression: AUROC = 0.857\n"
     ]
    }
   ],
   "source": [
    "print('Random (chance) Prediction: AUROC = %.3f' % (r_auc))\n",
    "print('Random Forest: AUROC = %.3f' % (rf_auc))\n",
    "print('Naive Bayes: AUROC = %.3f' % (nb_auc))\n",
    "print('K nearest Neighbor: AUROC = %.3f' % (knn_auc))\n",
    "print('Desicion Tree: AUROC = %.3f' % (dtc_auc))\n",
    "print('Support Vector Machine: AUROC = %.3f' % (svm_auc))\n",
    "print('Gradient Boosting: AUROC = %.3f' % (gb_auc))\n",
    "print('Logistic Regression: AUROC = %.3f' % (lr_auc))\n"
   ]
  },
  {
   "cell_type": "code",
   "execution_count": 287,
   "id": "3e8177d3",
   "metadata": {},
   "outputs": [],
   "source": [
    "#calculate true postive rate and false positive rate for classifiers\n",
    "r_fpr, r_tpr, _ = roc_curve(y_test, r_probs)\n",
    "rf_fpr, rf_tpr, _ = roc_curve(y_test, rf_probs)\n",
    "nb_fpr, nb_tpr, _ = roc_curve(y_test, nb_probs)\n",
    "knn_fpr, knn_tpr, _ = roc_curve(y_test, knn_probs)\n",
    "dtc_fpr, dtc_tpr, _ = roc_curve(y_test, dtc_probs)\n",
    "svm_fpr, svm_tpr, _ = roc_curve(y_test, svm_probs)\n",
    "gb_fpr, gb_tpr, _ = roc_curve(y_test, gb_probs)\n",
    "lr_fpr, lr_tpr, _ = roc_curve(y_test, lr_probs)"
   ]
  },
  {
   "cell_type": "code",
   "execution_count": 289,
   "id": "25bc3f02",
   "metadata": {
    "scrolled": true
   },
   "outputs": [
    {
     "data": {
      "image/png": "[encoded data removed]",
      "text/plain": [
       "<Figure size 1000x1000 with 1 Axes>"
      ]
     },
     "metadata": {},
     "output_type": "display_data"
    }
   ],
   "source": [
    "#plot\n",
    "plt.style.use('classic')\n",
    "plt.figure(figsize=(10, 10), dpi=100)\n",
    "plt.plot(r_fpr, r_tpr, linestyle='--', label='Random prediction (AUROC = %0.3f)' % r_auc)\n",
    "plt.plot(rf_fpr, rf_tpr, marker='.', label='Random Forest (AUROC = %0.3f)' % rf_auc)\n",
    "plt.plot(nb_fpr, nb_tpr, marker='.', label='Naive Bayes (AUROC = %0.3f)' % nb_auc)\n",
    "plt.plot(knn_fpr, knn_tpr, marker='.', label='K Nearest Neighbor (AUROC = %0.3f)' % knn_auc)\n",
    "plt.plot(dtc_fpr, dtc_tpr, marker='.', label='Desicion Tree (AUROC = %0.3f)' % dtc_auc)\n",
    "plt.plot(svm_fpr, svm_tpr, marker='.', label='Support Vector Machine (AUROC = %0.3f)' % svm_auc)\n",
    "plt.plot(gb_fpr, gb_tpr, marker='.', label='Gradient Boosting (AUROC = %0.3f)' % gb_auc)\n",
    "plt.plot(lr_fpr, lr_tpr, marker='.', label='Logistic Regression (AUROC = %0.3f)' % lr_auc)\n",
    "# Title\n",
    "plt.title('ROC Plot for DNA Methylation Alzheimers Prediction')\n",
    "# Axis labels\n",
    "plt.xlabel('False Positive Rate')\n",
    "plt.ylabel('True Positive Rate')\n",
    "# Show legend\n",
    "plt.legend(loc = 'lower right' ) \n",
    "# Show plot\n",
    "plt.show()"
   ]
  },
  {
   "cell_type": "code",
   "execution_count": 290,
   "id": "f468fb88",
   "metadata": {},
   "outputs": [],
   "source": [
    "#get confusion matrices for classifiers\n",
    "cm_lr = confusion_matrix(y_test,lr_predictions)\n",
    "cm_knn = confusion_matrix(y_test,knn_predictions)\n",
    "cm_svm = confusion_matrix(y_test,svm_predictions)\n",
    "cm_nb = confusion_matrix(y_test,nb_predictions)\n",
    "cm_dtc = confusion_matrix(y_test,dtc_predictions)\n",
    "cm_rf = confusion_matrix(y_test,rf_predictions)\n",
    "cm_gb = confusion_matrix(y_test,gb_predictions)\n",
    "\n"
   ]
  },
  {
   "cell_type": "code",
   "execution_count": 1,
   "id": "2627c6c6",
   "metadata": {},
   "outputs": [
    {
     "ename": "NameError",
     "evalue": "name 'plt' is not defined",
     "output_type": "error",
     "traceback": [
      "\u001b[0;31m---------------------------------------------------------------------------\u001b[0m",
      "\u001b[0;31mNameError\u001b[0m                                 Traceback (most recent call last)",
      "\u001b[0;32m<ipython-input-1-cbb470e3c2cb>\u001b[0m in \u001b[0;36m<module>\u001b[0;34m\u001b[0m\n\u001b[1;32m      1\u001b[0m \u001b[0;31m#plot confusion matrices\u001b[0m\u001b[0;34m\u001b[0m\u001b[0;34m\u001b[0m\u001b[0;34m\u001b[0m\u001b[0m\n\u001b[0;32m----> 2\u001b[0;31m \u001b[0mplt\u001b[0m\u001b[0;34m.\u001b[0m\u001b[0mfigure\u001b[0m\u001b[0;34m(\u001b[0m\u001b[0mfigsize\u001b[0m\u001b[0;34m=\u001b[0m\u001b[0;34m(\u001b[0m\u001b[0;36m30\u001b[0m\u001b[0;34m,\u001b[0m\u001b[0;36m20\u001b[0m\u001b[0;34m)\u001b[0m\u001b[0;34m)\u001b[0m\u001b[0;34m\u001b[0m\u001b[0;34m\u001b[0m\u001b[0m\n\u001b[0m\u001b[1;32m      3\u001b[0m \u001b[0mplt\u001b[0m\u001b[0;34m.\u001b[0m\u001b[0mstyle\u001b[0m\u001b[0;34m.\u001b[0m\u001b[0muse\u001b[0m\u001b[0;34m(\u001b[0m\u001b[0;34m'fivethirtyeight'\u001b[0m\u001b[0;34m)\u001b[0m\u001b[0;34m\u001b[0m\u001b[0;34m\u001b[0m\u001b[0m\n\u001b[1;32m      4\u001b[0m \u001b[0mplt\u001b[0m\u001b[0;34m.\u001b[0m\u001b[0msuptitle\u001b[0m\u001b[0;34m(\u001b[0m\u001b[0;34m\"Confusion Matrixes\"\u001b[0m\u001b[0;34m,\u001b[0m\u001b[0mfontsize\u001b[0m\u001b[0;34m=\u001b[0m\u001b[0;36m24\u001b[0m\u001b[0;34m)\u001b[0m\u001b[0;34m\u001b[0m\u001b[0;34m\u001b[0m\u001b[0m\n\u001b[1;32m      5\u001b[0m \u001b[0mplt\u001b[0m\u001b[0;34m.\u001b[0m\u001b[0msubplots_adjust\u001b[0m\u001b[0;34m(\u001b[0m\u001b[0mwspace\u001b[0m \u001b[0;34m=\u001b[0m \u001b[0;36m0.4\u001b[0m\u001b[0;34m,\u001b[0m \u001b[0mhspace\u001b[0m\u001b[0;34m=\u001b[0m \u001b[0;36m0.4\u001b[0m\u001b[0;34m)\u001b[0m\u001b[0;34m\u001b[0m\u001b[0;34m\u001b[0m\u001b[0m\n",
      "\u001b[0;31mNameError\u001b[0m: name 'plt' is not defined"
     ]
    }
   ],
   "source": [
    "#plot confusion matrices\n",
    "plt.figure(figsize=(30,20))\n",
    "plt.style.use('fivethirtyeight')\n",
    "plt.suptitle(\"Confusion Matrixes\",fontsize=24)\n",
    "plt.subplots_adjust(wspace = 0.4, hspace= 0.4)\n",
    "\n",
    "plt.subplot(3,3,1)\n",
    "plt.title(\"Logistic Regression Confusion Matrix\")\n",
    "sns.heatmap(cm_lr,annot=True,cmap=\"Blues\",fmt=\"d\",cbar=False, annot_kws={\"size\": 24})\n",
    "\n",
    "plt.subplot(3,3,2)\n",
    "plt.title(\"K Nearest Neighbors Confusion Matrix\")\n",
    "sns.heatmap(cm_knn,annot=True,cmap=\"Blues\",fmt=\"d\",cbar=False, annot_kws={\"size\": 24})\n",
    "\n",
    "plt.subplot(3,3,3)\n",
    "plt.title(\"Support Vector Machine Confusion Matrix\")\n",
    "sns.heatmap(cm_svm,annot=True,cmap=\"Blues\",fmt=\"d\",cbar=False, annot_kws={\"size\": 24})\n",
    "\n",
    "plt.subplot(3,3,4)\n",
    "plt.title(\"Naive Bayes Confusion Matrix\")\n",
    "sns.heatmap(cm_nb,annot=True,cmap=\"Blues\",fmt=\"d\",cbar=False, annot_kws={\"size\": 24})\n",
    "\n",
    "plt.subplot(3,3,5)\n",
    "plt.title(\"Decision Tree Classifier Confusion Matrix\")\n",
    "sns.heatmap(cm_dtc,annot=True,cmap=\"Blues\",fmt=\"d\",cbar=False, annot_kws={\"size\": 24})\n",
    "\n",
    "plt.subplot(3,3,6)\n",
    "plt.title(\"Random Forest Confusion Matrix\")\n",
    "sns.heatmap(cm_rf,annot=True,cmap=\"Blues\",fmt=\"d\",cbar=False, annot_kws={\"size\": 24})\n",
    "\n",
    "plt.subplot(3,3,8)\n",
    "plt.title(\"Gradient Boost Confusion Matrix\")\n",
    "sns.heatmap(cm_gb,annot=True,cmap=\"Blues\",fmt=\"d\",cbar=False, annot_kws={\"size\": 24})\n",
    "\n",
    "plt.show()\n"
   ]
  },
  {
   "cell_type": "code",
   "execution_count": 292,
   "id": "9f794ca5",
   "metadata": {},
   "outputs": [
    {
     "name": "stdout",
     "output_type": "stream",
     "text": [
      "0.82 accuracy for svm with a standard deviation of 0.02\n",
      "0.76 accuracy for knn with a standard deviation of 0.06\n",
      "0.80 accuracy for random forest with a standard deviation of 0.05\n",
      "0.80 accuracy for naive bayes with a standard deviation of 0.05\n",
      "0.67 accuracy for decision tree with a standard deviation of 0.07\n",
      "0.77 accuracy for gradient boost with a standard deviation of 0.06\n",
      "0.79 accuracy for logistic regression with a standard deviation of 0.06\n"
     ]
    },
    {
     "name": "stderr",
     "output_type": "stream",
     "text": [
      "/Users/kbhaskar/opt/anaconda3/lib/python3.8/site-packages/sklearn/linear_model/_logistic.py:1322: UserWarning: Setting penalty='none' will ignore the C and l1_ratio parameters\n",
      "  warnings.warn(\n",
      "/Users/kbhaskar/opt/anaconda3/lib/python3.8/site-packages/sklearn/linear_model/_sag.py:328: ConvergenceWarning: The max_iter was reached which means the coef_ did not converge\n",
      "  warnings.warn(\"The max_iter was reached which means \"\n",
      "/Users/kbhaskar/opt/anaconda3/lib/python3.8/site-packages/sklearn/linear_model/_logistic.py:1322: UserWarning: Setting penalty='none' will ignore the C and l1_ratio parameters\n",
      "  warnings.warn(\n",
      "/Users/kbhaskar/opt/anaconda3/lib/python3.8/site-packages/sklearn/linear_model/_sag.py:328: ConvergenceWarning: The max_iter was reached which means the coef_ did not converge\n",
      "  warnings.warn(\"The max_iter was reached which means \"\n",
      "/Users/kbhaskar/opt/anaconda3/lib/python3.8/site-packages/sklearn/linear_model/_logistic.py:1322: UserWarning: Setting penalty='none' will ignore the C and l1_ratio parameters\n",
      "  warnings.warn(\n",
      "/Users/kbhaskar/opt/anaconda3/lib/python3.8/site-packages/sklearn/linear_model/_sag.py:328: ConvergenceWarning: The max_iter was reached which means the coef_ did not converge\n",
      "  warnings.warn(\"The max_iter was reached which means \"\n",
      "/Users/kbhaskar/opt/anaconda3/lib/python3.8/site-packages/sklearn/linear_model/_logistic.py:1322: UserWarning: Setting penalty='none' will ignore the C and l1_ratio parameters\n",
      "  warnings.warn(\n",
      "/Users/kbhaskar/opt/anaconda3/lib/python3.8/site-packages/sklearn/linear_model/_sag.py:328: ConvergenceWarning: The max_iter was reached which means the coef_ did not converge\n",
      "  warnings.warn(\"The max_iter was reached which means \"\n",
      "/Users/kbhaskar/opt/anaconda3/lib/python3.8/site-packages/sklearn/linear_model/_logistic.py:1322: UserWarning: Setting penalty='none' will ignore the C and l1_ratio parameters\n",
      "  warnings.warn(\n",
      "/Users/kbhaskar/opt/anaconda3/lib/python3.8/site-packages/sklearn/linear_model/_sag.py:328: ConvergenceWarning: The max_iter was reached which means the coef_ did not converge\n",
      "  warnings.warn(\"The max_iter was reached which means \"\n"
     ]
    }
   ],
   "source": [
    "#cross validation using cross val score\n",
    "mean_scores = []\n",
    "#cross validation\n",
    "from sklearn.model_selection import cross_val_score\n",
    "from statistics import mean\n",
    "svm_score=cross_val_score(svm, X, y, cv=5)\n",
    "mean_scores.append(svm_score.mean())\n",
    "print(\"%0.2f accuracy for svm with a standard deviation of %0.2f\" % (svm_score.mean(), svm_score.std()))\n",
    "\n",
    "knn_score=cross_val_score(knn, X, y, cv=5)\n",
    "mean_scores.append(knn_score.mean())\n",
    "print(\"%0.2f accuracy for knn with a standard deviation of %0.2f\" % (knn_score.mean(), knn_score.std()))\n",
    "\n",
    "rf_score=cross_val_score(rf, X, y, cv=5)\n",
    "mean_scores.append(rf_score.mean())\n",
    "print(\"%0.2f accuracy for random forest with a standard deviation of %0.2f\" % (rf_score.mean(), rf_score.std()))\n",
    "\n",
    "nb_score=cross_val_score(nb, X, y, cv=5)\n",
    "mean_scores.append(nb_score.mean())\n",
    "print(\"%0.2f accuracy for naive bayes with a standard deviation of %0.2f\" % (nb_score.mean(), nb_score.std()))\n",
    "\n",
    "dtc_score=cross_val_score(dtc, X, y, cv=5)\n",
    "mean_scores.append(dtc_score.mean())\n",
    "print(\"%0.2f accuracy for decision tree with a standard deviation of %0.2f\" % (dtc_score.mean(), dtc_score.std()))\n",
    "\n",
    "\n",
    "gb_score=cross_val_score(gb, X, y, cv=5)\n",
    "mean_scores.append(gb_score.mean())\n",
    "print(\"%0.2f accuracy for gradient boost with a standard deviation of %0.2f\" % (gb_score.mean(), gb_score.std()))\n",
    "\n",
    "lr_score=cross_val_score(lr, X, y, cv=5)\n",
    "mean_scores.append(lr_score.mean())\n",
    "print(\"%0.2f accuracy for logistic regression with a standard deviation of %0.2f\" % (lr_score.mean(), lr_score.std()))\n",
    "\n"
   ]
  },
  {
   "cell_type": "code",
   "execution_count": 293,
   "id": "e29e9e52",
   "metadata": {},
   "outputs": [
    {
     "name": "stderr",
     "output_type": "stream",
     "text": [
      "/Users/kbhaskar/opt/anaconda3/lib/python3.8/site-packages/sklearn/linear_model/_logistic.py:1322: UserWarning: Setting penalty='none' will ignore the C and l1_ratio parameters\n",
      "  warnings.warn(\n",
      "/Users/kbhaskar/opt/anaconda3/lib/python3.8/site-packages/sklearn/linear_model/_sag.py:328: ConvergenceWarning: The max_iter was reached which means the coef_ did not converge\n",
      "  warnings.warn(\"The max_iter was reached which means \"\n",
      "/Users/kbhaskar/opt/anaconda3/lib/python3.8/site-packages/sklearn/linear_model/_logistic.py:1322: UserWarning: Setting penalty='none' will ignore the C and l1_ratio parameters\n",
      "  warnings.warn(\n",
      "/Users/kbhaskar/opt/anaconda3/lib/python3.8/site-packages/sklearn/linear_model/_sag.py:328: ConvergenceWarning: The max_iter was reached which means the coef_ did not converge\n",
      "  warnings.warn(\"The max_iter was reached which means \"\n",
      "/Users/kbhaskar/opt/anaconda3/lib/python3.8/site-packages/sklearn/linear_model/_logistic.py:1322: UserWarning: Setting penalty='none' will ignore the C and l1_ratio parameters\n",
      "  warnings.warn(\n",
      "/Users/kbhaskar/opt/anaconda3/lib/python3.8/site-packages/sklearn/linear_model/_sag.py:328: ConvergenceWarning: The max_iter was reached which means the coef_ did not converge\n",
      "  warnings.warn(\"The max_iter was reached which means \"\n"
     ]
    },
    {
     "data": {
      "image/png": "[encoded data removed]",
      "text/plain": [
       "<Figure size 1280x480 with 1 Axes>"
      ]
     },
     "metadata": {},
     "output_type": "display_data"
    },
    {
     "name": "stdout",
     "output_type": "stream",
     "text": [
      "The accuracies are :\n",
      "70.8994708994709 79.8941798941799 67.72486772486772 77.24867724867724 78.3068783068783 78.83597883597884 78.83597883597884\n"
     ]
    }
   ],
   "source": [
    "from sklearn.model_selection import StratifiedKFold\n",
    "from sklearn.model_selection import KFold\n",
    "#stratified k-fold - splits test data into equal splits of 0s and 1s to prevent bias/overfitting\n",
    "scores_svm =[]\n",
    "scores_knn =[]\n",
    "scores_rf =[]\n",
    "scores_nb =[]\n",
    "scores_dtc =[]\n",
    "scores_gb =[]\n",
    "scores_lr =[]\n",
    "train1,test1,train2,test2 = 0,0,0,0\n",
    "def getScore (model,train1,train2,test1,test2):\n",
    "    model.fit(train1,train2)\n",
    "    return model.score(test1,test2)\n",
    "folds = StratifiedKFold(n_splits = 3)\n",
    "for train_index, test_index in folds.split(X,y):\n",
    "    train1,test1,train2,test2=X[train_index],X[test_index],y[train_index],y[test_index]\n",
    "    scores_svm.append(getScore(svm,train1,train2,test1,test2))\n",
    "    scores_knn.append(getScore(knn,train1,train2,test1,test2))\n",
    "    scores_rf.append(getScore(rf,train1,train2,test1,test2))\n",
    "    scores_nb.append(getScore(nb,train1,train2,test1,test2))\n",
    "    scores_dtc.append(getScore(dtc,train1,train2,test1,test2))\n",
    "    scores_gb.append(getScore(gb,train1,train2,test1,test2))\n",
    "    scores_lr.append(getScore(lr,train1,train2,test1,test2))\n",
    "svmScore = mean(scores_svm)*100\n",
    "knnScore = mean(scores_knn)*100\n",
    "rfScore = mean(scores_rf)*100\n",
    "nbScore = mean(scores_nb)*100\n",
    "dtcScore = mean(scores_dtc)*100\n",
    "gbScore = mean(scores_gb)*100\n",
    "lrScore = mean(scores_lr)*100\n",
    "dic = {'K Nearest Neighbor':knnScore,'Random Forest' : rfScore, 'Desicion Tree' : dtcScore, 'Support vector machine' : svmScore, 'Naive Bayes' : nbScore,'Gradient Boosting' : gbScore, 'Logistic Regression' : lrScore}\n",
    "sns.set_style(\"whitegrid\")\n",
    "plt.figure(figsize=(16,6))\n",
    "plt.yticks(np.arange(0,100,10))\n",
    "plt.ylabel(\"Accuracy %\")\n",
    "plt.xlabel(\"Algorithms\")\n",
    "sns.barplot(x=list(dic.keys()), y=list(dic.values()), palette=colors)\n",
    "plt.show()\n",
    "print(\"The accuracies are :\")\n",
    "print(knnScore,rfScore, dtcScore, svmScore, nbScore, gbScore, lrScore)"
   ]
  },
  {
   "cell_type": "code",
   "execution_count": 294,
   "id": "96b1b707",
   "metadata": {},
   "outputs": [
    {
     "data": {
      "image/png": "[encoded data removed]",
      "text/plain": [
       "<Figure size 2000x1000 with 1 Axes>"
      ]
     },
     "metadata": {},
     "output_type": "display_data"
    }
   ],
   "source": [
    "#plot change in accuracy\n",
    "plt.style.use('default')\n",
    "plt.figure(figsize=(20,10))\n",
    "labels = list(dic.keys())\n",
    "after = list(dic.values())\n",
    "before = list(accuracies.values())\n",
    "\n",
    "X_axis = np.arange(len(labels))\n",
    "plt.bar(X_axis - 0.2, before, 0.4, label = 'Original Accuracies')\n",
    "plt.bar(X_axis + 0.2, after, 0.4, label = 'Cross Validation Accuracies')\n",
    "  \n",
    "plt.xticks(X_axis, labels)\n",
    "plt.xlabel(\"Algorithms\")\n",
    "plt.ylabel(\"Accuracy %\")\n",
    "plt.title(\"Original Accuracy vs. Validation Accuracy\")\n",
    "plt.legend()\n",
    "plt.yticks(np.arange(0,100,10))\n",
    "plt.show()\n"
   ]
  },
  {
   "cell_type": "code",
   "execution_count": 295,
   "id": "cd47cf71",
   "metadata": {},
   "outputs": [],
   "source": [
    "#same process for AUROC, except use stratified k-fold data that has been split\n",
    "r_probsCross = [0 for _ in range (len(test2))]\n",
    "rf_probsCross = rf.predict_proba(test1)\n",
    "nb_probsCross = nb.predict_proba(test1)\n",
    "knn_probsCross = knn.predict_proba(test1)\n",
    "dtc_probsCross = knn.predict_proba(test1)\n",
    "svm_probsCross = svm.predict_proba(test1)\n",
    "gb_probsCross = gb.predict_proba(test1)\n",
    "lr_probsCross = lr.predict_proba(test1)"
   ]
  },
  {
   "cell_type": "code",
   "execution_count": 296,
   "id": "0e810dd6",
   "metadata": {},
   "outputs": [],
   "source": [
    "rf_probsCross = rf_probsCross[:, 1]\n",
    "nb_probsCross = nb_probsCross[:, 1]\n",
    "knn_probsCross = knn_probsCross[:, 1]\n",
    "dtc_probsCross = dtc_probsCross[:, 1]\n",
    "svm_probsCross = svm_probsCross[:, 1]\n",
    "gb_probsCross = gb_probsCross[:, 1]\n",
    "lr_probsCross = lr_probsCross[:, 1]"
   ]
  },
  {
   "cell_type": "code",
   "execution_count": 297,
   "id": "172a5020",
   "metadata": {},
   "outputs": [],
   "source": [
    "r_aucCross = roc_auc_score(test2, r_probsCross)\n",
    "rf_aucCross = roc_auc_score(test2, rf_probsCross)\n",
    "nb_aucCross = roc_auc_score(test2, nb_probsCross)\n",
    "knn_aucCross = roc_auc_score(test2,knn_probsCross)\n",
    "dtc_aucCross = roc_auc_score(test2,dtc_probsCross)\n",
    "svm_aucCross = roc_auc_score(test2,svm_probsCross)\n",
    "gb_aucCross = roc_auc_score(test2,gb_probsCross)\n",
    "lr_aucCross = roc_auc_score(test2,lr_probsCross)"
   ]
  },
  {
   "cell_type": "code",
   "execution_count": 298,
   "id": "19fd3edf",
   "metadata": {},
   "outputs": [
    {
     "name": "stdout",
     "output_type": "stream",
     "text": [
      "Random (chance) Prediction: AUROC = 0.500\n",
      "Random Forest: AUROC = 0.879\n",
      "Naive Bayes: AUROC = 0.890\n",
      "K nearest Neighbor: AUROC = 0.854\n",
      "Desicion Tree: AUROC = 0.854\n",
      "Support Vector Machine: AUROC = 0.898\n",
      "Gradient Boosting: AUROC = 0.881\n",
      "Logistic Regression: AUROC = 0.897\n"
     ]
    }
   ],
   "source": [
    "print('Random (chance) Prediction: AUROC = %.3f' % (r_aucCross))\n",
    "print('Random Forest: AUROC = %.3f' % (rf_aucCross))\n",
    "print('Naive Bayes: AUROC = %.3f' % (nb_aucCross))\n",
    "print('K nearest Neighbor: AUROC = %.3f' % (knn_aucCross))\n",
    "print('Desicion Tree: AUROC = %.3f' % (dtc_aucCross))\n",
    "print('Support Vector Machine: AUROC = %.3f' % (svm_aucCross))\n",
    "print('Gradient Boosting: AUROC = %.3f' % (gb_aucCross))\n",
    "print('Logistic Regression: AUROC = %.3f' % (lr_aucCross))\n"
   ]
  },
  {
   "cell_type": "code",
   "execution_count": 299,
   "id": "f3a4e2ab",
   "metadata": {},
   "outputs": [],
   "source": [
    "r_fprCross, r_tprCross, _ = roc_curve(test2, r_probsCross)\n",
    "rf_fprCross, rf_tprCross, _ = roc_curve(test2, rf_probsCross)\n",
    "nb_fprCross, nb_tprCross, _ = roc_curve(test2, nb_probsCross)\n",
    "knn_fprCross, knn_tprCross, _ = roc_curve(test2, knn_probsCross)\n",
    "dtc_fprCross, dtc_tprCross, _ = roc_curve(test2, dtc_probsCross)\n",
    "svm_fprCross, svm_tprCross, _ = roc_curve(test2, svm_probsCross)\n",
    "gb_fprCross, gb_tprCross, _ = roc_curve(test2, gb_probsCross)\n",
    "lr_fprCross, lr_tprCross, _ = roc_curve(test2, lr_probsCross)"
   ]
  },
  {
   "cell_type": "code",
   "execution_count": 2,
   "id": "0d71f7da",
   "metadata": {},
   "outputs": [
    {
     "ename": "NameError",
     "evalue": "name 'plt' is not defined",
     "output_type": "error",
     "traceback": [
      "\u001b[0;31m---------------------------------------------------------------------------\u001b[0m",
      "\u001b[0;31mNameError\u001b[0m                                 Traceback (most recent call last)",
      "\u001b[0;32m<ipython-input-2-8fd814d62ce3>\u001b[0m in \u001b[0;36m<module>\u001b[0;34m\u001b[0m\n\u001b[0;32m----> 1\u001b[0;31m \u001b[0mplt\u001b[0m\u001b[0;34m.\u001b[0m\u001b[0mstyle\u001b[0m\u001b[0;34m.\u001b[0m\u001b[0muse\u001b[0m\u001b[0;34m(\u001b[0m\u001b[0;34m'classic'\u001b[0m\u001b[0;34m)\u001b[0m\u001b[0;34m\u001b[0m\u001b[0;34m\u001b[0m\u001b[0m\n\u001b[0m\u001b[1;32m      2\u001b[0m \u001b[0mplt\u001b[0m\u001b[0;34m.\u001b[0m\u001b[0mfigure\u001b[0m\u001b[0;34m(\u001b[0m\u001b[0mfigsize\u001b[0m\u001b[0;34m=\u001b[0m\u001b[0;34m(\u001b[0m\u001b[0;36m10\u001b[0m\u001b[0;34m,\u001b[0m \u001b[0;36m10\u001b[0m\u001b[0;34m)\u001b[0m\u001b[0;34m,\u001b[0m \u001b[0mdpi\u001b[0m\u001b[0;34m=\u001b[0m\u001b[0;36m100\u001b[0m\u001b[0;34m)\u001b[0m\u001b[0;34m\u001b[0m\u001b[0;34m\u001b[0m\u001b[0m\n\u001b[1;32m      3\u001b[0m \u001b[0mplt\u001b[0m\u001b[0;34m.\u001b[0m\u001b[0mplot\u001b[0m\u001b[0;34m(\u001b[0m\u001b[0mr_fprCross\u001b[0m\u001b[0;34m,\u001b[0m \u001b[0mr_tprCross\u001b[0m\u001b[0;34m,\u001b[0m \u001b[0mlinestyle\u001b[0m\u001b[0;34m=\u001b[0m\u001b[0;34m'--'\u001b[0m\u001b[0;34m,\u001b[0m \u001b[0mlabel\u001b[0m\u001b[0;34m=\u001b[0m\u001b[0;34m'Random prediction (AUROC = %0.3f)'\u001b[0m \u001b[0;34m%\u001b[0m \u001b[0mr_aucCross\u001b[0m\u001b[0;34m)\u001b[0m\u001b[0;34m\u001b[0m\u001b[0;34m\u001b[0m\u001b[0m\n\u001b[1;32m      4\u001b[0m \u001b[0mplt\u001b[0m\u001b[0;34m.\u001b[0m\u001b[0mplot\u001b[0m\u001b[0;34m(\u001b[0m\u001b[0mrf_fprCross\u001b[0m\u001b[0;34m,\u001b[0m \u001b[0mrf_tprCross\u001b[0m\u001b[0;34m,\u001b[0m \u001b[0mmarker\u001b[0m\u001b[0;34m=\u001b[0m\u001b[0;34m'.'\u001b[0m\u001b[0;34m,\u001b[0m \u001b[0mlabel\u001b[0m\u001b[0;34m=\u001b[0m\u001b[0;34m'Random Forest (AUROC = %0.3f)'\u001b[0m \u001b[0;34m%\u001b[0m \u001b[0mrf_aucCross\u001b[0m\u001b[0;34m)\u001b[0m\u001b[0;34m\u001b[0m\u001b[0;34m\u001b[0m\u001b[0m\n\u001b[1;32m      5\u001b[0m \u001b[0mplt\u001b[0m\u001b[0;34m.\u001b[0m\u001b[0mplot\u001b[0m\u001b[0;34m(\u001b[0m\u001b[0mnb_fprCross\u001b[0m\u001b[0;34m,\u001b[0m \u001b[0mnb_tprCross\u001b[0m\u001b[0;34m,\u001b[0m \u001b[0mmarker\u001b[0m\u001b[0;34m=\u001b[0m\u001b[0;34m'.'\u001b[0m\u001b[0;34m,\u001b[0m \u001b[0mlabel\u001b[0m\u001b[0;34m=\u001b[0m\u001b[0;34m'Naive Bayes (AUROC = %0.3f)'\u001b[0m \u001b[0;34m%\u001b[0m \u001b[0mnb_aucCross\u001b[0m\u001b[0;34m)\u001b[0m\u001b[0;34m\u001b[0m\u001b[0;34m\u001b[0m\u001b[0m\n",
      "\u001b[0;31mNameError\u001b[0m: name 'plt' is not defined"
     ]
    }
   ],
   "source": [
    "plt.style.use('classic')\n",
    "plt.figure(figsize=(10, 10), dpi=100)\n",
    "plt.plot(r_fprCross, r_tprCross, linestyle='--', label='Random prediction (AUROC = %0.3f)' % r_aucCross)\n",
    "plt.plot(rf_fprCross, rf_tprCross, marker='.', label='Random Forest (AUROC = %0.3f)' % rf_aucCross)\n",
    "plt.plot(nb_fprCross, nb_tprCross, marker='.', label='Naive Bayes (AUROC = %0.3f)' % nb_aucCross)\n",
    "plt.plot(knn_fprCross, knn_tprCross, marker='.', label='K Nearest Neighbor (AUROC = %0.3f)' % knn_aucCross)\n",
    "plt.plot(dtc_fprCross, dtc_tprCross, marker='.', label='Desicion Tree (AUROC = %0.3f)' % dtc_aucCross)\n",
    "plt.plot(svm_fprCross, svm_tprCross, marker='.', label='Support Vector Machine (AUROC = %0.3f)' % svm_aucCross)\n",
    "plt.plot(gb_fprCross, gb_tprCross, marker='.', label='Gradient Boosting (AUROC = %0.3f)' % gb_aucCross)\n",
    "plt.plot(lr_fprCross, lr_tprCross, marker='.', label='Logistic Regression (AUROC = %0.3f)' % lr_aucCross)\n",
    "# Title\n",
    "plt.title('ROC Plot for DNA Methylation Alzheimers Prediction Cross Validation')\n",
    "# Axis labels\n",
    "plt.xlabel('False Positive Rate')\n",
    "plt.ylabel('True Positive Rate')\n",
    "# Show legend\n",
    "plt.legend(loc = 'lower right' )\n",
    "# Show plot\n",
    "plt.show()"
   ]
  },
  {
   "cell_type": "code",
   "execution_count": null,
   "id": "05827d95",
   "metadata": {},
   "outputs": [],
   "source": []
  }
 ],
 "metadata": {
  "kernelspec": {
   "display_name": "Python 3",
   "language": "python",
   "name": "python3"
  },
  "language_info": {
   "codemirror_mode": {
    "name": "ipython",
    "version": 3
   },
   "file_extension": ".py",
   "mimetype": "text/x-python",
   "name": "python",
   "nbconvert_exporter": "python",
   "pygments_lexer": "ipython3",
   "version": "3.7.10"
  }
 },
 "nbformat": 4,
 "nbformat_minor": 5
}
